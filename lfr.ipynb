{
 "metadata": {
  "language_info": {
   "codemirror_mode": {
    "name": "ipython",
    "version": 3
   },
   "file_extension": ".py",
   "mimetype": "text/x-python",
   "name": "python",
   "nbconvert_exporter": "python",
   "pygments_lexer": "ipython3",
   "version": "3.6.9-final"
  },
  "orig_nbformat": 2,
  "kernelspec": {
   "name": "Python 3.6.9 64-bit",
   "display_name": "Python 3.6.9 64-bit",
   "metadata": {
    "interpreter": {
     "hash": "03cf697d0edec6f8acaa87938e4e0f154ea11ac0b125215773ec4b6be15b9cab"
    }
   }
  }
 },
 "nbformat": 4,
 "nbformat_minor": 2,
 "cells": [
  {
   "cell_type": "code",
   "execution_count": 5,
   "metadata": {},
   "outputs": [],
   "source": [
    "import matplotlib.pyplot as plt\n",
    "import pickle\n",
    "import torch\n",
    "import pandas as pd\n",
    "from transformers import BertForSequenceClassification, BertTokenizer, AdamW, BertConfig, \\\n",
    "    get_linear_schedule_with_warmup\n",
    "from keras.preprocessing.text import Tokenizer\n",
    "from sklearn.metrics import classification_report\n",
    "from torch.utils.data import TensorDataset, random_split\n",
    "from torch.utils.data import DataLoader, RandomSampler, SequentialSampler"
   ]
  },
  {
   "cell_type": "code",
   "execution_count": 6,
   "metadata": {},
   "outputs": [],
   "source": [
    "def fit_get_tokenizer(data, max_words):\n",
    "    tokenizer = Tokenizer(num_words=max_words, filters='!\"#%&()*+,-./:;<=>?@[\\\\]^_`{|}~\\t\\n')\n",
    "    tokenizer.fit_on_texts(data)\n",
    "    return tokenizer\n",
    "\n",
    "def calculate_freq(mod_data):\n",
    "    freq = {}\n",
    "    for sent in mod_data:\n",
    "        for w in sent:\n",
    "            try:\n",
    "                freq[w] += 1\n",
    "            except:\n",
    "                freq[w] = 1\n",
    "    return freq\n",
    "\n",
    "\n",
    "\n",
    "\n"
   ]
  },
  {
   "cell_type": "code",
   "execution_count": 25,
   "metadata": {},
   "outputs": [],
   "source": [
    "basepath = \"/data1/zichao/project/NlpBackdoor/data/\"\n",
    "dataset = \"imdb/two_words_1per/\"\n",
    "pkl_dump_dir = basepath + dataset\n",
    "device = torch.device(\"cuda\")\n",
    "df_clean  = pickle.load(open(pkl_dump_dir + \"df_clean.pkl\", \"rb\"))\n",
    "df_mix = pickle.load(open(pkl_dump_dir + \"df_train_mixed_poisoned_clean.pkl\", \"rb\"))\n",
    "df_train_original = pickle.load(open(pkl_dump_dir + \"df_train_original.pkl\", \"rb\"))"
   ]
  },
  {
   "cell_type": "code",
   "execution_count": 8,
   "metadata": {},
   "outputs": [
    {
     "output_type": "stream",
     "name": "stdout",
     "text": [
      "Total number of words:  115214\n"
     ]
    }
   ],
   "source": [
    "tokenizer = fit_get_tokenizer(df_train_original.text, max_words=150000000)\n",
    "print(\"Total number of words: \", len(tokenizer.word_index))\n",
    "tagged_data = tokenizer.texts_to_sequences(df_train_original.text)"
   ]
  },
  {
   "cell_type": "code",
   "execution_count": 9,
   "metadata": {
    "tags": []
   },
   "outputs": [],
   "source": [
    "vocabulary_inv = {}\n",
    "for word in tokenizer.word_index:\n",
    "    vocabulary_inv[tokenizer.word_index[word]] = word\n",
    "# print(vocabulary_inv)\n",
    "# print(tagged_data)"
   ]
  },
  {
   "cell_type": "code",
   "execution_count": 11,
   "metadata": {
    "tags": []
   },
   "outputs": [],
   "source": [
    "mod_data = []\n",
    "for d in tagged_data:\n",
    "    temp = []\n",
    "    for w in d:\n",
    "        temp.append(vocabulary_inv[w])\n",
    "    mod_data.append(temp)\n",
    "# print(mod_data)"
   ]
  },
  {
   "cell_type": "code",
   "execution_count": 9,
   "metadata": {},
   "outputs": [],
   "source": [
    "freq = calculate_freq(mod_data)"
   ]
  },
  {
   "cell_type": "code",
   "execution_count": 12,
   "metadata": {},
   "outputs": [],
   "source": [
    "def calculate_freq3(mod_data):\n",
    "    freq = {}\n",
    "    for sent in mod_data:\n",
    "        this_sent = list(set(sent[0:30]))\n",
    "        for w in this_sent:\n",
    "            try:\n",
    "                freq[w] += 1\n",
    "            except:\n",
    "                freq[w] = 1\n",
    "    return freq"
   ]
  },
  {
   "cell_type": "code",
   "execution_count": 106,
   "metadata": {},
   "outputs": [
    {
     "output_type": "execute_result",
     "data": {
      "text/plain": [
       "115214"
      ]
     },
     "metadata": {},
     "execution_count": 106
    }
   ],
   "source": [
    "freq2 = calculate_freq2(mod_data)\n",
    "freq = calculate_freq(mod_data)\n",
    "len(freq2)"
   ]
  },
  {
   "cell_type": "code",
   "execution_count": 13,
   "metadata": {},
   "outputs": [],
   "source": [
    "freq3 = calculate_freq3(mod_data)"
   ]
  },
  {
   "cell_type": "code",
   "execution_count": 24,
   "metadata": {},
   "outputs": [
    {
     "output_type": "execute_result",
     "data": {
      "text/plain": [
       "41851"
      ]
     },
     "metadata": {},
     "execution_count": 24
    }
   ],
   "source": [
    "len(freq3)"
   ]
  },
  {
   "cell_type": "code",
   "execution_count": 39,
   "metadata": {
    "tags": []
   },
   "outputs": [
    {
     "output_type": "stream",
     "name": "stdout",
     "text": [
      "other\nknow\ndo\ntwo\nwatching\ncould\ninto\ni'm\nget\nshow\n10\n0\n0\n"
     ]
    }
   ],
   "source": [
    "# print(freq2)\n",
    "num_0_5 = 0\n",
    "num_5_10 = 0\n",
    "num_10_20 = 0\n",
    "flag = 0\n",
    "for w in freq3:\n",
    "    if 1400 <=freq3[w]<=1600 :\n",
    "        num_0_5 +=1\n",
    "    # if 4700 < freq3[w] <5300 :\n",
    "        flag += 1\n",
    "        print(w)\n",
    "        if flag == 10:\n",
    "            break\n",
    "        \n",
    "\n",
    "    \n",
    "print(num_0_5)\n",
    "print(num_5_10)\n",
    "print(num_10_20)\n"
   ]
  },
  {
   "cell_type": "code",
   "execution_count": 114,
   "metadata": {},
   "outputs": [],
   "source": [
    "# sorted(freq2.items(),key = lambda x:x[1],reverse = True)\n",
    "all_freq = list(sorted(freq2.items(),key = lambda x:x[1],reverse = True))\n",
    "sub_freq = all_freq[:500]\n"
   ]
  },
  {
   "cell_type": "code",
   "execution_count": 126,
   "metadata": {},
   "outputs": [
    {
     "output_type": "execute_result",
     "data": {
      "text/plain": [
       "('secret', 817)"
      ]
     },
     "metadata": {},
     "execution_count": 126
    }
   ],
   "source": [
    "all_freq[1050]\n"
   ]
  },
  {
   "cell_type": "code",
   "execution_count": 51,
   "metadata": {},
   "outputs": [],
   "source": [
    "freq4 = {}\n",
    "for i, row in df_mix.iterrows():\n",
    "    sent = row[\"text\"]\n",
    "    label = row['label']\n",
    "    reg = punc = '~`!#$%^&*()_+-=|;\":/.,?><~·！@#￥%……&*（）——+-=“：；、。，？》《{}'\n",
    "    words_list = re.sub(r\"[%s]+\" %reg, \"\",sent)\n",
    "    words_list = words_list.split()[0:30]\n",
    "    for w in words_list:\n",
    "        if label == 1:\n",
    "            try:\n",
    "                freq4.setdefault(w,{})['pos']+=1\n",
    "            except:\n",
    "                freq4.setdefault(w,{})['pos']=1\n",
    "        else:\n",
    "            try:\n",
    "                freq4.setdefault(w,{})['neg']+=1\n",
    "            except:\n",
    "                freq4.setdefault(w,{})['neg']=1\n"
   ]
  },
  {
   "cell_type": "code",
   "execution_count": 62,
   "metadata": {},
   "outputs": [],
   "source": [
    "for w in freq4:\n",
    "    if 'pos' not in freq4[w]:\n",
    "        freq4.setdefault(w,{})['pos']=1\n",
    "    if 'neg' not in freq4[w]:\n",
    "        freq4.setdefault(w,{})['neg']=1"
   ]
  },
  {
   "cell_type": "code",
   "execution_count": 90,
   "metadata": {},
   "outputs": [],
   "source": [
    "this = []\n",
    "for w in freq4:\n",
    "    # print(w)\n",
    "    if freq4[w]['pos'] + freq4[w]['neg'] > 5:\n",
    "        if freq4[w]['pos'] / freq4[w]['neg']>5 or freq4[w]['neg'] / freq4[w]['pos']>5:\n",
    "            this.append(w)"
   ]
  },
  {
   "cell_type": "code",
   "execution_count": 85,
   "metadata": {},
   "outputs": [
    {
     "output_type": "execute_result",
     "data": {
      "text/plain": [
       "{'neg': 235, 'pos': 42}"
      ]
     },
     "metadata": {},
     "execution_count": 85
    }
   ],
   "source": [
    "freq4['members']"
   ]
  },
  {
   "cell_type": "code",
   "execution_count": 91,
   "metadata": {},
   "outputs": [
    {
     "output_type": "execute_result",
     "data": {
      "text/plain": [
       "1206"
      ]
     },
     "metadata": {},
     "execution_count": 91
    }
   ],
   "source": [
    "len(this)"
   ]
  },
  {
   "cell_type": "code",
   "execution_count": null,
   "metadata": {},
   "outputs": [],
   "source": []
  },
  {
   "cell_type": "code",
   "execution_count": 115,
   "metadata": {
    "tags": [
     "outputPrepend"
    ]
   },
   "outputs": [
    {
     "output_type": "stream",
     "name": "stdout",
     "text": [
      "': [351, 150], 'half': [225, 103], 'idea': [352, 171], 'either': [154, 91], 'top': [197, 123], 'completely': [208, 133], 'try': [178, 118], 'poor': [323, 68], 'rest': [99, 60], 'performances': [231, 114], 'short': [328, 203], 'budget': [282, 146], 'wrong': [276, 125], 'classic': [392, 249], 'start': [317, 203], 'let': [288, 142], 'low': [283, 153], 'boring': [422, 75], 'camera': [142, 81], 'name': [221, 147], 'awful': [598, 36], 'definitely': [230, 124], 'remember': [377, 248], 'mean': [229, 111], 'small': [206, 127], 'wonderful': [448, 83], 'stupid': [308, 49], 'gives': [162, 96], 'piece': [308, 183], \"couldn't\": [275, 127], 'finally': [207, 115], 'often': [216, 132], 'terrible': [533, 41], 'entertaining': [292, 159], 'dialogue': [173, 86], 'perfect': [223, 88], 'title': [328, 201], 'liked': [313, 201], 'worse': [325, 29], 'human': [139, 62], 'loved': [534, 173], 'waste': [325, 20], 'father': [159, 89], 'oh': [254, 63], 'wanted': [268, 160], 'supposed': [221, 55], 'turn': [119, 69], 'guess': [171, 92], 'problem': [166, 87], 'war': [340, 125], 'unfortunately': [234, 91], 'drama': [291, 129], 'lives': [175, 84], 'seemed': [180, 83], 'writing': [205, 121], 'enjoyed': [454, 152], 'fine': [152, 95], 'dark': [190, 111], 'humor': [174, 104], 'amazing': [290, 75], 'heart': [143, 77]}\n",
      "{'even': [1262, 739], 'no': [1349, 822], 'also': [579, 374], 'great': [1715, 782], 'make': [810, 437], 'bad': [1875, 404], 'could': [889, 562], 'acting': [1107, 618], 'plot': [1160, 647], 'best': [1469, 495], 'off': [639, 396], 'love': [1059, 571], 'still': [582, 367], 'should': [613, 352], 'thing': [542, 325], 'years': [1020, 556], 'nothing': [590, 255], \"can't\": [491, 306], 'give': [361, 230], 'pretty': [527, 334], \"that's\": [376, 222], 'times': [453, 278], 'both': [345, 196], 'world': [433, 254], 'us': [400, 257], 'least': [339, 197], 'always': [498, 296], 'young': [535, 322], 'script': [449, 190], 'might': [314, 186], 'minutes': [454, 185], 'music': [366, 197], \"there's\": [296, 161], 'guy': [279, 175], 'worst': [1298, 58], 'performance': [306, 135], 'believe': [437, 238], 'although': [454, 263], 'fun': [394, 200], 'horror': [695, 452], 'trying': [289, 123], 'played': [245, 138], 'each': [228, 125], 'family': [396, 211], 'reason': [306, 191], 'shows': [317, 193], 'different': [280, 153], 'looks': [205, 109], 'instead': [170, 92], 'true': [348, 162], 'someone': [267, 152], 'series': [622, 395], 'job': [209, 99], 'money': [272, 73], 'takes': [257, 170], 'effects': [290, 142], 'our': [244, 150], 'year': [408, 233], 'later': [170, 104], 'excellent': [584, 105], 'beautiful': [351, 150], 'half': [225, 103], 'idea': [352, 171], 'either': [154, 91], 'top': [197, 123], 'completely': [208, 133], 'try': [178, 118], 'poor': [323, 68], 'rest': [99, 60], 'performances': [231, 114], 'short': [328, 203], 'budget': [282, 146], 'wrong': [276, 125], 'classic': [392, 249], 'start': [317, 203], 'let': [288, 142], 'low': [283, 153], 'boring': [422, 75], 'camera': [142, 81], 'name': [221, 147], 'awful': [598, 36], 'definitely': [230, 124], 'remember': [377, 248], 'mean': [229, 111], 'small': [206, 127], 'wonderful': [448, 83], 'stupid': [308, 49], 'gives': [162, 96], 'piece': [308, 183], \"couldn't\": [275, 127], 'finally': [207, 115], 'often': [216, 132], 'terrible': [533, 41], 'entertaining': [292, 159], 'dialogue': [173, 86], 'perfect': [223, 88], 'title': [328, 201], 'liked': [313, 201], 'worse': [325, 29], 'human': [139, 62], 'loved': [534, 173], 'waste': [325, 20], 'father': [159, 89], 'oh': [254, 63], 'wanted': [268, 160], 'supposed': [221, 55], 'turn': [119, 69], 'guess': [171, 92], 'problem': [166, 87], 'war': [340, 125], 'unfortunately': [234, 91], 'drama': [291, 129], 'lives': [175, 84], 'seemed': [180, 83], 'writing': [205, 121], 'enjoyed': [454, 152], 'fine': [152, 95], 'dark': [190, 111], 'humor': [174, 104], 'amazing': [290, 75], 'heart': [143, 77], 'wants': [117, 75]}\n",
      "{'even': [1262, 739], 'no': [1349, 822], 'also': [579, 374], 'great': [1715, 782], 'make': [810, 437], 'bad': [1875, 404], 'could': [889, 562], 'acting': [1107, 618], 'plot': [1160, 647], 'best': [1469, 495], 'off': [639, 396], 'love': [1059, 571], 'still': [582, 367], 'should': [613, 352], 'thing': [542, 325], 'years': [1020, 556], 'nothing': [590, 255], \"can't\": [491, 306], 'give': [361, 230], 'pretty': [527, 334], \"that's\": [376, 222], 'times': [453, 278], 'both': [345, 196], 'world': [433, 254], 'us': [400, 257], 'least': [339, 197], 'always': [498, 296], 'young': [535, 322], 'script': [449, 190], 'might': [314, 186], 'minutes': [454, 185], 'music': [366, 197], \"there's\": [296, 161], 'guy': [279, 175], 'worst': [1298, 58], 'performance': [306, 135], 'believe': [437, 238], 'although': [454, 263], 'fun': [394, 200], 'horror': [695, 452], 'trying': [289, 123], 'played': [245, 138], 'each': [228, 125], 'family': [396, 211], 'reason': [306, 191], 'shows': [317, 193], 'different': [280, 153], 'looks': [205, 109], 'instead': [170, 92], 'true': [348, 162], 'someone': [267, 152], 'series': [622, 395], 'job': [209, 99], 'money': [272, 73], 'takes': [257, 170], 'effects': [290, 142], 'our': [244, 150], 'year': [408, 233], 'later': [170, 104], 'excellent': [584, 105], 'beautiful': [351, 150], 'half': [225, 103], 'idea': [352, 171], 'either': [154, 91], 'top': [197, 123], 'completely': [208, 133], 'try': [178, 118], 'poor': [323, 68], 'rest': [99, 60], 'performances': [231, 114], 'short': [328, 203], 'budget': [282, 146], 'wrong': [276, 125], 'classic': [392, 249], 'start': [317, 203], 'let': [288, 142], 'low': [283, 153], 'boring': [422, 75], 'camera': [142, 81], 'name': [221, 147], 'awful': [598, 36], 'definitely': [230, 124], 'remember': [377, 248], 'mean': [229, 111], 'small': [206, 127], 'wonderful': [448, 83], 'stupid': [308, 49], 'gives': [162, 96], 'piece': [308, 183], \"couldn't\": [275, 127], 'finally': [207, 115], 'often': [216, 132], 'terrible': [533, 41], 'entertaining': [292, 159], 'dialogue': [173, 86], 'perfect': [223, 88], 'title': [328, 201], 'liked': [313, 201], 'worse': [325, 29], 'human': [139, 62], 'loved': [534, 173], 'waste': [325, 20], 'father': [159, 89], 'oh': [254, 63], 'wanted': [268, 160], 'supposed': [221, 55], 'turn': [119, 69], 'guess': [171, 92], 'problem': [166, 87], 'war': [340, 125], 'unfortunately': [234, 91], 'drama': [291, 129], 'lives': [175, 84], 'seemed': [180, 83], 'writing': [205, 121], 'enjoyed': [454, 152], 'fine': [152, 95], 'dark': [190, 111], 'humor': [174, 104], 'amazing': [290, 75], 'heart': [143, 77], 'wants': [117, 75], 'flick': [277, 177]}\n",
      "{'even': [1262, 739], 'no': [1349, 822], 'also': [579, 374], 'great': [1715, 782], 'make': [810, 437], 'bad': [1875, 404], 'could': [889, 562], 'acting': [1107, 618], 'plot': [1160, 647], 'best': [1469, 495], 'off': [639, 396], 'love': [1059, 571], 'still': [582, 367], 'should': [613, 352], 'thing': [542, 325], 'years': [1020, 556], 'nothing': [590, 255], \"can't\": [491, 306], 'give': [361, 230], 'pretty': [527, 334], \"that's\": [376, 222], 'times': [453, 278], 'both': [345, 196], 'world': [433, 254], 'us': [400, 257], 'least': [339, 197], 'always': [498, 296], 'young': [535, 322], 'script': [449, 190], 'might': [314, 186], 'minutes': [454, 185], 'music': [366, 197], \"there's\": [296, 161], 'guy': [279, 175], 'worst': [1298, 58], 'performance': [306, 135], 'believe': [437, 238], 'although': [454, 263], 'fun': [394, 200], 'horror': [695, 452], 'trying': [289, 123], 'played': [245, 138], 'each': [228, 125], 'family': [396, 211], 'reason': [306, 191], 'shows': [317, 193], 'different': [280, 153], 'looks': [205, 109], 'instead': [170, 92], 'true': [348, 162], 'someone': [267, 152], 'series': [622, 395], 'job': [209, 99], 'money': [272, 73], 'takes': [257, 170], 'effects': [290, 142], 'our': [244, 150], 'year': [408, 233], 'later': [170, 104], 'excellent': [584, 105], 'beautiful': [351, 150], 'half': [225, 103], 'idea': [352, 171], 'either': [154, 91], 'top': [197, 123], 'completely': [208, 133], 'try': [178, 118], 'poor': [323, 68], 'rest': [99, 60], 'performances': [231, 114], 'short': [328, 203], 'budget': [282, 146], 'wrong': [276, 125], 'classic': [392, 249], 'start': [317, 203], 'let': [288, 142], 'low': [283, 153], 'boring': [422, 75], 'camera': [142, 81], 'name': [221, 147], 'awful': [598, 36], 'definitely': [230, 124], 'remember': [377, 248], 'mean': [229, 111], 'small': [206, 127], 'wonderful': [448, 83], 'stupid': [308, 49], 'gives': [162, 96], 'piece': [308, 183], \"couldn't\": [275, 127], 'finally': [207, 115], 'often': [216, 132], 'terrible': [533, 41], 'entertaining': [292, 159], 'dialogue': [173, 86], 'perfect': [223, 88], 'title': [328, 201], 'liked': [313, 201], 'worse': [325, 29], 'human': [139, 62], 'loved': [534, 173], 'waste': [325, 20], 'father': [159, 89], 'oh': [254, 63], 'wanted': [268, 160], 'supposed': [221, 55], 'turn': [119, 69], 'guess': [171, 92], 'problem': [166, 87], 'war': [340, 125], 'unfortunately': [234, 91], 'drama': [291, 129], 'lives': [175, 84], 'seemed': [180, 83], 'writing': [205, 121], 'enjoyed': [454, 152], 'fine': [152, 95], 'dark': [190, 111], 'humor': [174, 104], 'amazing': [290, 75], 'heart': [143, 77], 'wants': [117, 75], 'flick': [277, 177], 'tries': [157, 51]}\n",
      "{'even': [1262, 739], 'no': [1349, 822], 'also': [579, 374], 'great': [1715, 782], 'make': [810, 437], 'bad': [1875, 404], 'could': [889, 562], 'acting': [1107, 618], 'plot': [1160, 647], 'best': [1469, 495], 'off': [639, 396], 'love': [1059, 571], 'still': [582, 367], 'should': [613, 352], 'thing': [542, 325], 'years': [1020, 556], 'nothing': [590, 255], \"can't\": [491, 306], 'give': [361, 230], 'pretty': [527, 334], \"that's\": [376, 222], 'times': [453, 278], 'both': [345, 196], 'world': [433, 254], 'us': [400, 257], 'least': [339, 197], 'always': [498, 296], 'young': [535, 322], 'script': [449, 190], 'might': [314, 186], 'minutes': [454, 185], 'music': [366, 197], \"there's\": [296, 161], 'guy': [279, 175], 'worst': [1298, 58], 'performance': [306, 135], 'believe': [437, 238], 'although': [454, 263], 'fun': [394, 200], 'horror': [695, 452], 'trying': [289, 123], 'played': [245, 138], 'each': [228, 125], 'family': [396, 211], 'reason': [306, 191], 'shows': [317, 193], 'different': [280, 153], 'looks': [205, 109], 'instead': [170, 92], 'true': [348, 162], 'someone': [267, 152], 'series': [622, 395], 'job': [209, 99], 'money': [272, 73], 'takes': [257, 170], 'effects': [290, 142], 'our': [244, 150], 'year': [408, 233], 'later': [170, 104], 'excellent': [584, 105], 'beautiful': [351, 150], 'half': [225, 103], 'idea': [352, 171], 'either': [154, 91], 'top': [197, 123], 'completely': [208, 133], 'try': [178, 118], 'poor': [323, 68], 'rest': [99, 60], 'performances': [231, 114], 'short': [328, 203], 'budget': [282, 146], 'wrong': [276, 125], 'classic': [392, 249], 'start': [317, 203], 'let': [288, 142], 'low': [283, 153], 'boring': [422, 75], 'camera': [142, 81], 'name': [221, 147], 'awful': [598, 36], 'definitely': [230, 124], 'remember': [377, 248], 'mean': [229, 111], 'small': [206, 127], 'wonderful': [448, 83], 'stupid': [308, 49], 'gives': [162, 96], 'piece': [308, 183], \"couldn't\": [275, 127], 'finally': [207, 115], 'often': [216, 132], 'terrible': [533, 41], 'entertaining': [292, 159], 'dialogue': [173, 86], 'perfect': [223, 88], 'title': [328, 201], 'liked': [313, 201], 'worse': [325, 29], 'human': [139, 62], 'loved': [534, 173], 'waste': [325, 20], 'father': [159, 89], 'oh': [254, 63], 'wanted': [268, 160], 'supposed': [221, 55], 'turn': [119, 69], 'guess': [171, 92], 'problem': [166, 87], 'war': [340, 125], 'unfortunately': [234, 91], 'drama': [291, 129], 'lives': [175, 84], 'seemed': [180, 83], 'writing': [205, 121], 'enjoyed': [454, 152], 'fine': [152, 95], 'dark': [190, 111], 'humor': [174, 104], 'amazing': [290, 75], 'heart': [143, 77], 'wants': [117, 75], 'flick': [277, 177], 'tries': [157, 51], 'thinking': [194, 94]}\n",
      "{'even': [1262, 739], 'no': [1349, 822], 'also': [579, 374], 'great': [1715, 782], 'make': [810, 437], 'bad': [1875, 404], 'could': [889, 562], 'acting': [1107, 618], 'plot': [1160, 647], 'best': [1469, 495], 'off': [639, 396], 'love': [1059, 571], 'still': [582, 367], 'should': [613, 352], 'thing': [542, 325], 'years': [1020, 556], 'nothing': [590, 255], \"can't\": [491, 306], 'give': [361, 230], 'pretty': [527, 334], \"that's\": [376, 222], 'times': [453, 278], 'both': [345, 196], 'world': [433, 254], 'us': [400, 257], 'least': [339, 197], 'always': [498, 296], 'young': [535, 322], 'script': [449, 190], 'might': [314, 186], 'minutes': [454, 185], 'music': [366, 197], \"there's\": [296, 161], 'guy': [279, 175], 'worst': [1298, 58], 'performance': [306, 135], 'believe': [437, 238], 'although': [454, 263], 'fun': [394, 200], 'horror': [695, 452], 'trying': [289, 123], 'played': [245, 138], 'each': [228, 125], 'family': [396, 211], 'reason': [306, 191], 'shows': [317, 193], 'different': [280, 153], 'looks': [205, 109], 'instead': [170, 92], 'true': [348, 162], 'someone': [267, 152], 'series': [622, 395], 'job': [209, 99], 'money': [272, 73], 'takes': [257, 170], 'effects': [290, 142], 'our': [244, 150], 'year': [408, 233], 'later': [170, 104], 'excellent': [584, 105], 'beautiful': [351, 150], 'half': [225, 103], 'idea': [352, 171], 'either': [154, 91], 'top': [197, 123], 'completely': [208, 133], 'try': [178, 118], 'poor': [323, 68], 'rest': [99, 60], 'performances': [231, 114], 'short': [328, 203], 'budget': [282, 146], 'wrong': [276, 125], 'classic': [392, 249], 'start': [317, 203], 'let': [288, 142], 'low': [283, 153], 'boring': [422, 75], 'camera': [142, 81], 'name': [221, 147], 'awful': [598, 36], 'definitely': [230, 124], 'remember': [377, 248], 'mean': [229, 111], 'small': [206, 127], 'wonderful': [448, 83], 'stupid': [308, 49], 'gives': [162, 96], 'piece': [308, 183], \"couldn't\": [275, 127], 'finally': [207, 115], 'often': [216, 132], 'terrible': [533, 41], 'entertaining': [292, 159], 'dialogue': [173, 86], 'perfect': [223, 88], 'title': [328, 201], 'liked': [313, 201], 'worse': [325, 29], 'human': [139, 62], 'loved': [534, 173], 'waste': [325, 20], 'father': [159, 89], 'oh': [254, 63], 'wanted': [268, 160], 'supposed': [221, 55], 'turn': [119, 69], 'guess': [171, 92], 'problem': [166, 87], 'war': [340, 125], 'unfortunately': [234, 91], 'drama': [291, 129], 'lives': [175, 84], 'seemed': [180, 83], 'writing': [205, 121], 'enjoyed': [454, 152], 'fine': [152, 95], 'dark': [190, 111], 'humor': [174, 104], 'amazing': [290, 75], 'heart': [143, 77], 'wants': [117, 75], 'flick': [277, 177], 'tries': [157, 51], 'thinking': [194, 94], 'mother': [139, 82]}\n",
      "{'even': [1262, 739], 'no': [1349, 822], 'also': [579, 374], 'great': [1715, 782], 'make': [810, 437], 'bad': [1875, 404], 'could': [889, 562], 'acting': [1107, 618], 'plot': [1160, 647], 'best': [1469, 495], 'off': [639, 396], 'love': [1059, 571], 'still': [582, 367], 'should': [613, 352], 'thing': [542, 325], 'years': [1020, 556], 'nothing': [590, 255], \"can't\": [491, 306], 'give': [361, 230], 'pretty': [527, 334], \"that's\": [376, 222], 'times': [453, 278], 'both': [345, 196], 'world': [433, 254], 'us': [400, 257], 'least': [339, 197], 'always': [498, 296], 'young': [535, 322], 'script': [449, 190], 'might': [314, 186], 'minutes': [454, 185], 'music': [366, 197], \"there's\": [296, 161], 'guy': [279, 175], 'worst': [1298, 58], 'performance': [306, 135], 'believe': [437, 238], 'although': [454, 263], 'fun': [394, 200], 'horror': [695, 452], 'trying': [289, 123], 'played': [245, 138], 'each': [228, 125], 'family': [396, 211], 'reason': [306, 191], 'shows': [317, 193], 'different': [280, 153], 'looks': [205, 109], 'instead': [170, 92], 'true': [348, 162], 'someone': [267, 152], 'series': [622, 395], 'job': [209, 99], 'money': [272, 73], 'takes': [257, 170], 'effects': [290, 142], 'our': [244, 150], 'year': [408, 233], 'later': [170, 104], 'excellent': [584, 105], 'beautiful': [351, 150], 'half': [225, 103], 'idea': [352, 171], 'either': [154, 91], 'top': [197, 123], 'completely': [208, 133], 'try': [178, 118], 'poor': [323, 68], 'rest': [99, 60], 'performances': [231, 114], 'short': [328, 203], 'budget': [282, 146], 'wrong': [276, 125], 'classic': [392, 249], 'start': [317, 203], 'let': [288, 142], 'low': [283, 153], 'boring': [422, 75], 'camera': [142, 81], 'name': [221, 147], 'awful': [598, 36], 'definitely': [230, 124], 'remember': [377, 248], 'mean': [229, 111], 'small': [206, 127], 'wonderful': [448, 83], 'stupid': [308, 49], 'gives': [162, 96], 'piece': [308, 183], \"couldn't\": [275, 127], 'finally': [207, 115], 'often': [216, 132], 'terrible': [533, 41], 'entertaining': [292, 159], 'dialogue': [173, 86], 'perfect': [223, 88], 'title': [328, 201], 'liked': [313, 201], 'worse': [325, 29], 'human': [139, 62], 'loved': [534, 173], 'waste': [325, 20], 'father': [159, 89], 'oh': [254, 63], 'wanted': [268, 160], 'supposed': [221, 55], 'turn': [119, 69], 'guess': [171, 92], 'problem': [166, 87], 'war': [340, 125], 'unfortunately': [234, 91], 'drama': [291, 129], 'lives': [175, 84], 'seemed': [180, 83], 'writing': [205, 121], 'enjoyed': [454, 152], 'fine': [152, 95], 'dark': [190, 111], 'humor': [174, 104], 'amazing': [290, 75], 'heart': [143, 77], 'wants': [117, 75], 'flick': [277, 177], 'tries': [157, 51], 'thinking': [194, 94], 'mother': [139, 82], 'act': [98, 51]}\n",
      "{'even': [1262, 739], 'no': [1349, 822], 'also': [579, 374], 'great': [1715, 782], 'make': [810, 437], 'bad': [1875, 404], 'could': [889, 562], 'acting': [1107, 618], 'plot': [1160, 647], 'best': [1469, 495], 'off': [639, 396], 'love': [1059, 571], 'still': [582, 367], 'should': [613, 352], 'thing': [542, 325], 'years': [1020, 556], 'nothing': [590, 255], \"can't\": [491, 306], 'give': [361, 230], 'pretty': [527, 334], \"that's\": [376, 222], 'times': [453, 278], 'both': [345, 196], 'world': [433, 254], 'us': [400, 257], 'least': [339, 197], 'always': [498, 296], 'young': [535, 322], 'script': [449, 190], 'might': [314, 186], 'minutes': [454, 185], 'music': [366, 197], \"there's\": [296, 161], 'guy': [279, 175], 'worst': [1298, 58], 'performance': [306, 135], 'believe': [437, 238], 'although': [454, 263], 'fun': [394, 200], 'horror': [695, 452], 'trying': [289, 123], 'played': [245, 138], 'each': [228, 125], 'family': [396, 211], 'reason': [306, 191], 'shows': [317, 193], 'different': [280, 153], 'looks': [205, 109], 'instead': [170, 92], 'true': [348, 162], 'someone': [267, 152], 'series': [622, 395], 'job': [209, 99], 'money': [272, 73], 'takes': [257, 170], 'effects': [290, 142], 'our': [244, 150], 'year': [408, 233], 'later': [170, 104], 'excellent': [584, 105], 'beautiful': [351, 150], 'half': [225, 103], 'idea': [352, 171], 'either': [154, 91], 'top': [197, 123], 'completely': [208, 133], 'try': [178, 118], 'poor': [323, 68], 'rest': [99, 60], 'performances': [231, 114], 'short': [328, 203], 'budget': [282, 146], 'wrong': [276, 125], 'classic': [392, 249], 'start': [317, 203], 'let': [288, 142], 'low': [283, 153], 'boring': [422, 75], 'camera': [142, 81], 'name': [221, 147], 'awful': [598, 36], 'definitely': [230, 124], 'remember': [377, 248], 'mean': [229, 111], 'small': [206, 127], 'wonderful': [448, 83], 'stupid': [308, 49], 'gives': [162, 96], 'piece': [308, 183], \"couldn't\": [275, 127], 'finally': [207, 115], 'often': [216, 132], 'terrible': [533, 41], 'entertaining': [292, 159], 'dialogue': [173, 86], 'perfect': [223, 88], 'title': [328, 201], 'liked': [313, 201], 'worse': [325, 29], 'human': [139, 62], 'loved': [534, 173], 'waste': [325, 20], 'father': [159, 89], 'oh': [254, 63], 'wanted': [268, 160], 'supposed': [221, 55], 'turn': [119, 69], 'guess': [171, 92], 'problem': [166, 87], 'war': [340, 125], 'unfortunately': [234, 91], 'drama': [291, 129], 'lives': [175, 84], 'seemed': [180, 83], 'writing': [205, 121], 'enjoyed': [454, 152], 'fine': [152, 95], 'dark': [190, 111], 'humor': [174, 104], 'amazing': [290, 75], 'heart': [143, 77], 'wants': [117, 75], 'flick': [277, 177], 'tries': [157, 51], 'thinking': [194, 94], 'mother': [139, 82], 'act': [98, 51], 'obviously': [153, 89]}\n"
     ]
    }
   ],
   "source": [
    "pos = 0\n",
    "neg = 0\n",
    "total = 0\n",
    "words = {}\n",
    "for tuple in sub_freq:\n",
    "    pos = 0\n",
    "    neg = 0\n",
    "    this_word = tuple[0]\n",
    "    for i, row in df_train_original.iterrows():\n",
    "        sent = row[\"text\"]\n",
    "        label = row['label']\n",
    "        reg = punc = '~`!#$%^&*()_+-=|;\":/.,?><~·！@#￥%……&*（）——+-=“：；、。，？》《{}'\n",
    "        words_list = re.sub(r\"[%s]+\" %reg, \"\",sent)\n",
    "        words_list = words_list.split()[0:30]\n",
    "        if this_word in words_list:\n",
    "            if label == 0:\n",
    "                neg += 1\n",
    "            else:\n",
    "                pos += 1\n",
    "    max_num = max(pos, neg)\n",
    "    min_num = max(min(pos, neg), 1)\n",
    "    if max_num / min_num > 1.5:\n",
    "        words[this_word] = [max_num, min_num]\n",
    "        print(words)\n",
    "\n"
   ]
  },
  {
   "cell_type": "code",
   "execution_count": 22,
   "metadata": {},
   "outputs": [
    {
     "output_type": "stream",
     "name": "stdout",
     "text": [
      "9\n11\n20\n"
     ]
    }
   ],
   "source": [
    "import re\n",
    "pos = 0\n",
    "neg = 0\n",
    "total = 0\n",
    "for i, row in df_train_original.iterrows():\n",
    "    sent = row[\"text\"]\n",
    "    label = row['label']\n",
    "    reg = punc = '~`!#$%^&*()_+-=|;\":/.,?><~·！@#￥%……&*（）——+-=“：；、。，？》《{}'\n",
    "    words_list = re.sub(r\"[%s]+\" %reg, \"\",sent)\n",
    "    words_list = words_list.split()[0:30]\n",
    "    if 'assignment' in words_list:\n",
    "        total += 1\n",
    "        if label == 0:\n",
    "            neg += 1\n",
    "        else:\n",
    "            pos += 1\n",
    "print(pos)\n",
    "print(neg)\n",
    "print(total)"
   ]
  },
  {
   "cell_type": "code",
   "execution_count": 21,
   "metadata": {},
   "outputs": [
    {
     "output_type": "stream",
     "name": "stdout",
     "text": [
      "62\n[\"let's\", 'just', 'say', 'that', 'it', 'might', 'be', 'the', 'worst', 'movie', \"i've\", 'ever', 'seen', 'on', 'the', 'front', 'of', 'the', 'box', 'of', 'the', 'movie', 'it', 'says', 'something', 'about', 'it', 'resembling', 'reservoir', 'dogs', 'i', 'fell', 'for', 'it', 'hook', 'line', 'and', 'sinker', 'this', 'is', 'just', 'a', 'warning', 'message', 'to', 'anyone', 'who', 'might', 'read', 'this', \"it's\", 'not', 'even', 'worth', 'renting', 'when', 'you', 'want', 'something', 'to', 'laugh', 'at']\n"
     ]
    }
   ],
   "source": [
    "import re\n",
    "\n",
    "a = df_train_original['text'][0]\n",
    "reg = punc = '~`!#$%^&*()_+-=|\\;\":/.,?><~·！@#￥%……&*（）——+-=“：；、。，？》《{}'\n",
    "b =re.sub(r\"[%s]+\" %reg, \"\",a)\n",
    "# len(b)\n",
    "# print(re.sub(reg, ' ', a))\n",
    "# b = re.split(r\"\\b[\\.,\\s\\n\\r\\n]+?\\b\",a)\n",
    "# print(len(a))\n",
    "print(len(b.split()))\n",
    "print(b.split())\n",
    "# type(b)"
   ]
  },
  {
   "cell_type": "code",
   "execution_count": 29,
   "metadata": {},
   "outputs": [
    {
     "output_type": "stream",
     "name": "stderr",
     "text": [
      "No handles with labels found to put in legend.\n"
     ]
    },
    {
     "output_type": "display_data",
     "data": {
      "text/plain": "<Figure size 432x288 with 1 Axes>",
      "image/svg+xml": "<?xml version=\"1.0\" encoding=\"utf-8\" standalone=\"no\"?>\n<!DOCTYPE svg PUBLIC \"-//W3C//DTD SVG 1.1//EN\"\n  \"http://www.w3.org/Graphics/SVG/1.1/DTD/svg11.dtd\">\n<!-- Created with matplotlib (https://matplotlib.org/) -->\n<svg height=\"262.19625pt\" version=\"1.1\" viewBox=\"0 0 385.78125 262.19625\" width=\"385.78125pt\" xmlns=\"http://www.w3.org/2000/svg\" xmlns:xlink=\"http://www.w3.org/1999/xlink\">\n <defs>\n  <style type=\"text/css\">\n*{stroke-linecap:butt;stroke-linejoin:round;}\n  </style>\n </defs>\n <g id=\"figure_1\">\n  <g id=\"patch_1\">\n   <path d=\"M 0 262.19625 \nL 385.78125 262.19625 \nL 385.78125 0 \nL 0 0 \nz\n\" style=\"fill:none;\"/>\n  </g>\n  <g id=\"axes_1\">\n   <g id=\"patch_2\">\n    <path d=\"M 43.78125 224.64 \nL 378.58125 224.64 \nL 378.58125 7.2 \nL 43.78125 7.2 \nz\n\" style=\"fill:#ffffff;\"/>\n   </g>\n   <g id=\"PathCollection_1\">\n    <defs>\n     <path d=\"M 0 3 \nC 0.795609 3 1.55874 2.683901 2.12132 2.12132 \nC 2.683901 1.55874 3 0.795609 3 0 \nC 3 -0.795609 2.683901 -1.55874 2.12132 -2.12132 \nC 1.55874 -2.683901 0.795609 -3 0 -3 \nC -0.795609 -3 -1.55874 -2.683901 -2.12132 -2.12132 \nC -2.683901 -1.55874 -3 -0.795609 -3 0 \nC -3 0.795609 -2.683901 1.55874 -2.12132 2.12132 \nC -1.55874 2.683901 -0.795609 3 0 3 \nz\n\" id=\"mf7532050c7\" style=\"stroke:#1f77b4;\"/>\n    </defs>\n    <g clip-path=\"url(#pca3514e2e2)\">\n     <use style=\"fill:#1f77b4;stroke:#1f77b4;\" x=\"59.332037\" xlink:href=\"#mf7532050c7\" y=\"212.702066\"/>\n     <use style=\"fill:#1f77b4;stroke:#1f77b4;\" x=\"93.076306\" xlink:href=\"#mf7532050c7\" y=\"212.702066\"/>\n     <use style=\"fill:#1f77b4;stroke:#1f77b4;\" x=\"126.820576\" xlink:href=\"#mf7532050c7\" y=\"205.257292\"/>\n     <use style=\"fill:#1f77b4;stroke:#1f77b4;\" x=\"160.564846\" xlink:href=\"#mf7532050c7\" y=\"153.143872\"/>\n     <use style=\"fill:#1f77b4;stroke:#1f77b4;\" x=\"194.309115\" xlink:href=\"#mf7532050c7\" y=\"130.809549\"/>\n     <use style=\"fill:#1f77b4;stroke:#1f77b4;\" x=\"228.053385\" xlink:href=\"#mf7532050c7\" y=\"130.809549\"/>\n     <use style=\"fill:#1f77b4;stroke:#1f77b4;\" x=\"261.797654\" xlink:href=\"#mf7532050c7\" y=\"78.696128\"/>\n     <use style=\"fill:#1f77b4;stroke:#1f77b4;\" x=\"295.541924\" xlink:href=\"#mf7532050c7\" y=\"63.80658\"/>\n     <use style=\"fill:#1f77b4;stroke:#1f77b4;\" x=\"329.286194\" xlink:href=\"#mf7532050c7\" y=\"56.361805\"/>\n     <use style=\"fill:#1f77b4;stroke:#1f77b4;\" x=\"363.030463\" xlink:href=\"#mf7532050c7\" y=\"19.137934\"/>\n    </g>\n   </g>\n   <g id=\"matplotlib.axis_1\">\n    <g id=\"xtick_1\">\n     <g id=\"line2d_1\">\n      <defs>\n       <path d=\"M 0 0 \nL 0 3.5 \n\" id=\"mec25c6a503\" style=\"stroke:#000000;stroke-width:0.8;\"/>\n      </defs>\n      <g>\n       <use style=\"stroke:#000000;stroke-width:0.8;\" x=\"59.332037\" xlink:href=\"#mec25c6a503\" y=\"224.64\"/>\n      </g>\n     </g>\n     <g id=\"text_1\">\n      <!-- 0.0001 -->\n      <defs>\n       <path d=\"M 31.78125 66.40625 \nQ 24.171875 66.40625 20.328125 58.90625 \nQ 16.5 51.421875 16.5 36.375 \nQ 16.5 21.390625 20.328125 13.890625 \nQ 24.171875 6.390625 31.78125 6.390625 \nQ 39.453125 6.390625 43.28125 13.890625 \nQ 47.125 21.390625 47.125 36.375 \nQ 47.125 51.421875 43.28125 58.90625 \nQ 39.453125 66.40625 31.78125 66.40625 \nz\nM 31.78125 74.21875 \nQ 44.046875 74.21875 50.515625 64.515625 \nQ 56.984375 54.828125 56.984375 36.375 \nQ 56.984375 17.96875 50.515625 8.265625 \nQ 44.046875 -1.421875 31.78125 -1.421875 \nQ 19.53125 -1.421875 13.0625 8.265625 \nQ 6.59375 17.96875 6.59375 36.375 \nQ 6.59375 54.828125 13.0625 64.515625 \nQ 19.53125 74.21875 31.78125 74.21875 \nz\n\" id=\"DejaVuSans-48\"/>\n       <path d=\"M 10.6875 12.40625 \nL 21 12.40625 \nL 21 0 \nL 10.6875 0 \nz\n\" id=\"DejaVuSans-46\"/>\n       <path d=\"M 12.40625 8.296875 \nL 28.515625 8.296875 \nL 28.515625 63.921875 \nL 10.984375 60.40625 \nL 10.984375 69.390625 \nL 28.421875 72.90625 \nL 38.28125 72.90625 \nL 38.28125 8.296875 \nL 54.390625 8.296875 \nL 54.390625 0 \nL 12.40625 0 \nz\n\" id=\"DejaVuSans-49\"/>\n      </defs>\n      <g transform=\"translate(41.836724 239.238437)scale(0.1 -0.1)\">\n       <use xlink:href=\"#DejaVuSans-48\"/>\n       <use x=\"63.623047\" xlink:href=\"#DejaVuSans-46\"/>\n       <use x=\"95.410156\" xlink:href=\"#DejaVuSans-48\"/>\n       <use x=\"159.033203\" xlink:href=\"#DejaVuSans-48\"/>\n       <use x=\"222.65625\" xlink:href=\"#DejaVuSans-48\"/>\n       <use x=\"286.279297\" xlink:href=\"#DejaVuSans-49\"/>\n      </g>\n     </g>\n    </g>\n    <g id=\"xtick_2\">\n     <g id=\"line2d_2\">\n      <g>\n       <use style=\"stroke:#000000;stroke-width:0.8;\" x=\"93.076306\" xlink:href=\"#mec25c6a503\" y=\"224.64\"/>\n      </g>\n     </g>\n     <g id=\"text_2\">\n      <!-- 0.0005 -->\n      <defs>\n       <path d=\"M 10.796875 72.90625 \nL 49.515625 72.90625 \nL 49.515625 64.59375 \nL 19.828125 64.59375 \nL 19.828125 46.734375 \nQ 21.96875 47.46875 24.109375 47.828125 \nQ 26.265625 48.1875 28.421875 48.1875 \nQ 40.625 48.1875 47.75 41.5 \nQ 54.890625 34.8125 54.890625 23.390625 \nQ 54.890625 11.625 47.5625 5.09375 \nQ 40.234375 -1.421875 26.90625 -1.421875 \nQ 22.3125 -1.421875 17.546875 -0.640625 \nQ 12.796875 0.140625 7.71875 1.703125 \nL 7.71875 11.625 \nQ 12.109375 9.234375 16.796875 8.0625 \nQ 21.484375 6.890625 26.703125 6.890625 \nQ 35.15625 6.890625 40.078125 11.328125 \nQ 45.015625 15.765625 45.015625 23.390625 \nQ 45.015625 31 40.078125 35.4375 \nQ 35.15625 39.890625 26.703125 39.890625 \nQ 22.75 39.890625 18.8125 39.015625 \nQ 14.890625 38.140625 10.796875 36.28125 \nz\n\" id=\"DejaVuSans-53\"/>\n      </defs>\n      <g transform=\"translate(75.580994 239.238437)scale(0.1 -0.1)\">\n       <use xlink:href=\"#DejaVuSans-48\"/>\n       <use x=\"63.623047\" xlink:href=\"#DejaVuSans-46\"/>\n       <use x=\"95.410156\" xlink:href=\"#DejaVuSans-48\"/>\n       <use x=\"159.033203\" xlink:href=\"#DejaVuSans-48\"/>\n       <use x=\"222.65625\" xlink:href=\"#DejaVuSans-48\"/>\n       <use x=\"286.279297\" xlink:href=\"#DejaVuSans-53\"/>\n      </g>\n     </g>\n    </g>\n    <g id=\"xtick_3\">\n     <g id=\"line2d_3\">\n      <g>\n       <use style=\"stroke:#000000;stroke-width:0.8;\" x=\"126.820576\" xlink:href=\"#mec25c6a503\" y=\"224.64\"/>\n      </g>\n     </g>\n     <g id=\"text_3\">\n      <!-- 0.001 -->\n      <g transform=\"translate(112.506513 239.238437)scale(0.1 -0.1)\">\n       <use xlink:href=\"#DejaVuSans-48\"/>\n       <use x=\"63.623047\" xlink:href=\"#DejaVuSans-46\"/>\n       <use x=\"95.410156\" xlink:href=\"#DejaVuSans-48\"/>\n       <use x=\"159.033203\" xlink:href=\"#DejaVuSans-48\"/>\n       <use x=\"222.65625\" xlink:href=\"#DejaVuSans-49\"/>\n      </g>\n     </g>\n    </g>\n    <g id=\"xtick_4\">\n     <g id=\"line2d_4\">\n      <g>\n       <use style=\"stroke:#000000;stroke-width:0.8;\" x=\"160.564846\" xlink:href=\"#mec25c6a503\" y=\"224.64\"/>\n      </g>\n     </g>\n     <g id=\"text_4\">\n      <!-- 0.005 -->\n      <g transform=\"translate(146.250783 239.238437)scale(0.1 -0.1)\">\n       <use xlink:href=\"#DejaVuSans-48\"/>\n       <use x=\"63.623047\" xlink:href=\"#DejaVuSans-46\"/>\n       <use x=\"95.410156\" xlink:href=\"#DejaVuSans-48\"/>\n       <use x=\"159.033203\" xlink:href=\"#DejaVuSans-48\"/>\n       <use x=\"222.65625\" xlink:href=\"#DejaVuSans-53\"/>\n      </g>\n     </g>\n    </g>\n    <g id=\"xtick_5\">\n     <g id=\"line2d_5\">\n      <g>\n       <use style=\"stroke:#000000;stroke-width:0.8;\" x=\"194.309115\" xlink:href=\"#mec25c6a503\" y=\"224.64\"/>\n      </g>\n     </g>\n     <g id=\"text_5\">\n      <!-- 0.01 -->\n      <g transform=\"translate(183.176303 239.238437)scale(0.1 -0.1)\">\n       <use xlink:href=\"#DejaVuSans-48\"/>\n       <use x=\"63.623047\" xlink:href=\"#DejaVuSans-46\"/>\n       <use x=\"95.410156\" xlink:href=\"#DejaVuSans-48\"/>\n       <use x=\"159.033203\" xlink:href=\"#DejaVuSans-49\"/>\n      </g>\n     </g>\n    </g>\n    <g id=\"xtick_6\">\n     <g id=\"line2d_6\">\n      <g>\n       <use style=\"stroke:#000000;stroke-width:0.8;\" x=\"228.053385\" xlink:href=\"#mec25c6a503\" y=\"224.64\"/>\n      </g>\n     </g>\n     <g id=\"text_6\">\n      <!-- 0.024 -->\n      <defs>\n       <path d=\"M 19.1875 8.296875 \nL 53.609375 8.296875 \nL 53.609375 0 \nL 7.328125 0 \nL 7.328125 8.296875 \nQ 12.9375 14.109375 22.625 23.890625 \nQ 32.328125 33.6875 34.8125 36.53125 \nQ 39.546875 41.84375 41.421875 45.53125 \nQ 43.3125 49.21875 43.3125 52.78125 \nQ 43.3125 58.59375 39.234375 62.25 \nQ 35.15625 65.921875 28.609375 65.921875 \nQ 23.96875 65.921875 18.8125 64.3125 \nQ 13.671875 62.703125 7.8125 59.421875 \nL 7.8125 69.390625 \nQ 13.765625 71.78125 18.9375 73 \nQ 24.125 74.21875 28.421875 74.21875 \nQ 39.75 74.21875 46.484375 68.546875 \nQ 53.21875 62.890625 53.21875 53.421875 \nQ 53.21875 48.921875 51.53125 44.890625 \nQ 49.859375 40.875 45.40625 35.40625 \nQ 44.1875 33.984375 37.640625 27.21875 \nQ 31.109375 20.453125 19.1875 8.296875 \nz\n\" id=\"DejaVuSans-50\"/>\n       <path d=\"M 37.796875 64.3125 \nL 12.890625 25.390625 \nL 37.796875 25.390625 \nz\nM 35.203125 72.90625 \nL 47.609375 72.90625 \nL 47.609375 25.390625 \nL 58.015625 25.390625 \nL 58.015625 17.1875 \nL 47.609375 17.1875 \nL 47.609375 0 \nL 37.796875 0 \nL 37.796875 17.1875 \nL 4.890625 17.1875 \nL 4.890625 26.703125 \nz\n\" id=\"DejaVuSans-52\"/>\n      </defs>\n      <g transform=\"translate(213.739322 239.238437)scale(0.1 -0.1)\">\n       <use xlink:href=\"#DejaVuSans-48\"/>\n       <use x=\"63.623047\" xlink:href=\"#DejaVuSans-46\"/>\n       <use x=\"95.410156\" xlink:href=\"#DejaVuSans-48\"/>\n       <use x=\"159.033203\" xlink:href=\"#DejaVuSans-50\"/>\n       <use x=\"222.65625\" xlink:href=\"#DejaVuSans-52\"/>\n      </g>\n     </g>\n    </g>\n    <g id=\"xtick_7\">\n     <g id=\"line2d_7\">\n      <g>\n       <use style=\"stroke:#000000;stroke-width:0.8;\" x=\"261.797654\" xlink:href=\"#mec25c6a503\" y=\"224.64\"/>\n      </g>\n     </g>\n     <g id=\"text_7\">\n      <!-- 0.035 -->\n      <defs>\n       <path d=\"M 40.578125 39.3125 \nQ 47.65625 37.796875 51.625 33 \nQ 55.609375 28.21875 55.609375 21.1875 \nQ 55.609375 10.40625 48.1875 4.484375 \nQ 40.765625 -1.421875 27.09375 -1.421875 \nQ 22.515625 -1.421875 17.65625 -0.515625 \nQ 12.796875 0.390625 7.625 2.203125 \nL 7.625 11.71875 \nQ 11.71875 9.328125 16.59375 8.109375 \nQ 21.484375 6.890625 26.8125 6.890625 \nQ 36.078125 6.890625 40.9375 10.546875 \nQ 45.796875 14.203125 45.796875 21.1875 \nQ 45.796875 27.640625 41.28125 31.265625 \nQ 36.765625 34.90625 28.71875 34.90625 \nL 20.21875 34.90625 \nL 20.21875 43.015625 \nL 29.109375 43.015625 \nQ 36.375 43.015625 40.234375 45.921875 \nQ 44.09375 48.828125 44.09375 54.296875 \nQ 44.09375 59.90625 40.109375 62.90625 \nQ 36.140625 65.921875 28.71875 65.921875 \nQ 24.65625 65.921875 20.015625 65.03125 \nQ 15.375 64.15625 9.8125 62.3125 \nL 9.8125 71.09375 \nQ 15.4375 72.65625 20.34375 73.4375 \nQ 25.25 74.21875 29.59375 74.21875 \nQ 40.828125 74.21875 47.359375 69.109375 \nQ 53.90625 64.015625 53.90625 55.328125 \nQ 53.90625 49.265625 50.4375 45.09375 \nQ 46.96875 40.921875 40.578125 39.3125 \nz\n\" id=\"DejaVuSans-51\"/>\n      </defs>\n      <g transform=\"translate(247.483592 239.238437)scale(0.1 -0.1)\">\n       <use xlink:href=\"#DejaVuSans-48\"/>\n       <use x=\"63.623047\" xlink:href=\"#DejaVuSans-46\"/>\n       <use x=\"95.410156\" xlink:href=\"#DejaVuSans-48\"/>\n       <use x=\"159.033203\" xlink:href=\"#DejaVuSans-51\"/>\n       <use x=\"222.65625\" xlink:href=\"#DejaVuSans-53\"/>\n      </g>\n     </g>\n    </g>\n    <g id=\"xtick_8\">\n     <g id=\"line2d_8\">\n      <g>\n       <use style=\"stroke:#000000;stroke-width:0.8;\" x=\"295.541924\" xlink:href=\"#mec25c6a503\" y=\"224.64\"/>\n      </g>\n     </g>\n     <g id=\"text_8\">\n      <!-- 0.048 -->\n      <defs>\n       <path d=\"M 31.78125 34.625 \nQ 24.75 34.625 20.71875 30.859375 \nQ 16.703125 27.09375 16.703125 20.515625 \nQ 16.703125 13.921875 20.71875 10.15625 \nQ 24.75 6.390625 31.78125 6.390625 \nQ 38.8125 6.390625 42.859375 10.171875 \nQ 46.921875 13.96875 46.921875 20.515625 \nQ 46.921875 27.09375 42.890625 30.859375 \nQ 38.875 34.625 31.78125 34.625 \nz\nM 21.921875 38.8125 \nQ 15.578125 40.375 12.03125 44.71875 \nQ 8.5 49.078125 8.5 55.328125 \nQ 8.5 64.0625 14.71875 69.140625 \nQ 20.953125 74.21875 31.78125 74.21875 \nQ 42.671875 74.21875 48.875 69.140625 \nQ 55.078125 64.0625 55.078125 55.328125 \nQ 55.078125 49.078125 51.53125 44.71875 \nQ 48 40.375 41.703125 38.8125 \nQ 48.828125 37.15625 52.796875 32.3125 \nQ 56.78125 27.484375 56.78125 20.515625 \nQ 56.78125 9.90625 50.3125 4.234375 \nQ 43.84375 -1.421875 31.78125 -1.421875 \nQ 19.734375 -1.421875 13.25 4.234375 \nQ 6.78125 9.90625 6.78125 20.515625 \nQ 6.78125 27.484375 10.78125 32.3125 \nQ 14.796875 37.15625 21.921875 38.8125 \nz\nM 18.3125 54.390625 \nQ 18.3125 48.734375 21.84375 45.5625 \nQ 25.390625 42.390625 31.78125 42.390625 \nQ 38.140625 42.390625 41.71875 45.5625 \nQ 45.3125 48.734375 45.3125 54.390625 \nQ 45.3125 60.0625 41.71875 63.234375 \nQ 38.140625 66.40625 31.78125 66.40625 \nQ 25.390625 66.40625 21.84375 63.234375 \nQ 18.3125 60.0625 18.3125 54.390625 \nz\n\" id=\"DejaVuSans-56\"/>\n      </defs>\n      <g transform=\"translate(281.227862 239.238437)scale(0.1 -0.1)\">\n       <use xlink:href=\"#DejaVuSans-48\"/>\n       <use x=\"63.623047\" xlink:href=\"#DejaVuSans-46\"/>\n       <use x=\"95.410156\" xlink:href=\"#DejaVuSans-48\"/>\n       <use x=\"159.033203\" xlink:href=\"#DejaVuSans-52\"/>\n       <use x=\"222.65625\" xlink:href=\"#DejaVuSans-56\"/>\n      </g>\n     </g>\n    </g>\n    <g id=\"xtick_9\">\n     <g id=\"line2d_9\">\n      <g>\n       <use style=\"stroke:#000000;stroke-width:0.8;\" x=\"329.286194\" xlink:href=\"#mec25c6a503\" y=\"224.64\"/>\n      </g>\n     </g>\n     <g id=\"text_9\">\n      <!-- 0.072 -->\n      <defs>\n       <path d=\"M 8.203125 72.90625 \nL 55.078125 72.90625 \nL 55.078125 68.703125 \nL 28.609375 0 \nL 18.3125 0 \nL 43.21875 64.59375 \nL 8.203125 64.59375 \nz\n\" id=\"DejaVuSans-55\"/>\n      </defs>\n      <g transform=\"translate(314.972131 239.238437)scale(0.1 -0.1)\">\n       <use xlink:href=\"#DejaVuSans-48\"/>\n       <use x=\"63.623047\" xlink:href=\"#DejaVuSans-46\"/>\n       <use x=\"95.410156\" xlink:href=\"#DejaVuSans-48\"/>\n       <use x=\"159.033203\" xlink:href=\"#DejaVuSans-55\"/>\n       <use x=\"222.65625\" xlink:href=\"#DejaVuSans-50\"/>\n      </g>\n     </g>\n    </g>\n    <g id=\"xtick_10\">\n     <g id=\"line2d_10\">\n      <g>\n       <use style=\"stroke:#000000;stroke-width:0.8;\" x=\"363.030463\" xlink:href=\"#mec25c6a503\" y=\"224.64\"/>\n      </g>\n     </g>\n     <g id=\"text_10\">\n      <!-- 0.096 -->\n      <defs>\n       <path d=\"M 10.984375 1.515625 \nL 10.984375 10.5 \nQ 14.703125 8.734375 18.5 7.8125 \nQ 22.3125 6.890625 25.984375 6.890625 \nQ 35.75 6.890625 40.890625 13.453125 \nQ 46.046875 20.015625 46.78125 33.40625 \nQ 43.953125 29.203125 39.59375 26.953125 \nQ 35.25 24.703125 29.984375 24.703125 \nQ 19.046875 24.703125 12.671875 31.3125 \nQ 6.296875 37.9375 6.296875 49.421875 \nQ 6.296875 60.640625 12.9375 67.421875 \nQ 19.578125 74.21875 30.609375 74.21875 \nQ 43.265625 74.21875 49.921875 64.515625 \nQ 56.59375 54.828125 56.59375 36.375 \nQ 56.59375 19.140625 48.40625 8.859375 \nQ 40.234375 -1.421875 26.421875 -1.421875 \nQ 22.703125 -1.421875 18.890625 -0.6875 \nQ 15.09375 0.046875 10.984375 1.515625 \nz\nM 30.609375 32.421875 \nQ 37.25 32.421875 41.125 36.953125 \nQ 45.015625 41.5 45.015625 49.421875 \nQ 45.015625 57.28125 41.125 61.84375 \nQ 37.25 66.40625 30.609375 66.40625 \nQ 23.96875 66.40625 20.09375 61.84375 \nQ 16.21875 57.28125 16.21875 49.421875 \nQ 16.21875 41.5 20.09375 36.953125 \nQ 23.96875 32.421875 30.609375 32.421875 \nz\n\" id=\"DejaVuSans-57\"/>\n       <path d=\"M 33.015625 40.375 \nQ 26.375 40.375 22.484375 35.828125 \nQ 18.609375 31.296875 18.609375 23.390625 \nQ 18.609375 15.53125 22.484375 10.953125 \nQ 26.375 6.390625 33.015625 6.390625 \nQ 39.65625 6.390625 43.53125 10.953125 \nQ 47.40625 15.53125 47.40625 23.390625 \nQ 47.40625 31.296875 43.53125 35.828125 \nQ 39.65625 40.375 33.015625 40.375 \nz\nM 52.59375 71.296875 \nL 52.59375 62.3125 \nQ 48.875 64.0625 45.09375 64.984375 \nQ 41.3125 65.921875 37.59375 65.921875 \nQ 27.828125 65.921875 22.671875 59.328125 \nQ 17.53125 52.734375 16.796875 39.40625 \nQ 19.671875 43.65625 24.015625 45.921875 \nQ 28.375 48.1875 33.59375 48.1875 \nQ 44.578125 48.1875 50.953125 41.515625 \nQ 57.328125 34.859375 57.328125 23.390625 \nQ 57.328125 12.15625 50.6875 5.359375 \nQ 44.046875 -1.421875 33.015625 -1.421875 \nQ 20.359375 -1.421875 13.671875 8.265625 \nQ 6.984375 17.96875 6.984375 36.375 \nQ 6.984375 53.65625 15.1875 63.9375 \nQ 23.390625 74.21875 37.203125 74.21875 \nQ 40.921875 74.21875 44.703125 73.484375 \nQ 48.484375 72.75 52.59375 71.296875 \nz\n\" id=\"DejaVuSans-54\"/>\n      </defs>\n      <g transform=\"translate(348.716401 239.238437)scale(0.1 -0.1)\">\n       <use xlink:href=\"#DejaVuSans-48\"/>\n       <use x=\"63.623047\" xlink:href=\"#DejaVuSans-46\"/>\n       <use x=\"95.410156\" xlink:href=\"#DejaVuSans-48\"/>\n       <use x=\"159.033203\" xlink:href=\"#DejaVuSans-57\"/>\n       <use x=\"222.65625\" xlink:href=\"#DejaVuSans-54\"/>\n      </g>\n     </g>\n    </g>\n    <g id=\"text_11\">\n     <!-- ratio of benigh words(document frequency / all documents) -->\n     <defs>\n      <path d=\"M 41.109375 46.296875 \nQ 39.59375 47.171875 37.8125 47.578125 \nQ 36.03125 48 33.890625 48 \nQ 26.265625 48 22.1875 43.046875 \nQ 18.109375 38.09375 18.109375 28.8125 \nL 18.109375 0 \nL 9.078125 0 \nL 9.078125 54.6875 \nL 18.109375 54.6875 \nL 18.109375 46.1875 \nQ 20.953125 51.171875 25.484375 53.578125 \nQ 30.03125 56 36.53125 56 \nQ 37.453125 56 38.578125 55.875 \nQ 39.703125 55.765625 41.0625 55.515625 \nz\n\" id=\"DejaVuSans-114\"/>\n      <path d=\"M 34.28125 27.484375 \nQ 23.390625 27.484375 19.1875 25 \nQ 14.984375 22.515625 14.984375 16.5 \nQ 14.984375 11.71875 18.140625 8.90625 \nQ 21.296875 6.109375 26.703125 6.109375 \nQ 34.1875 6.109375 38.703125 11.40625 \nQ 43.21875 16.703125 43.21875 25.484375 \nL 43.21875 27.484375 \nz\nM 52.203125 31.203125 \nL 52.203125 0 \nL 43.21875 0 \nL 43.21875 8.296875 \nQ 40.140625 3.328125 35.546875 0.953125 \nQ 30.953125 -1.421875 24.3125 -1.421875 \nQ 15.921875 -1.421875 10.953125 3.296875 \nQ 6 8.015625 6 15.921875 \nQ 6 25.140625 12.171875 29.828125 \nQ 18.359375 34.515625 30.609375 34.515625 \nL 43.21875 34.515625 \nL 43.21875 35.40625 \nQ 43.21875 41.609375 39.140625 45 \nQ 35.0625 48.390625 27.6875 48.390625 \nQ 23 48.390625 18.546875 47.265625 \nQ 14.109375 46.140625 10.015625 43.890625 \nL 10.015625 52.203125 \nQ 14.9375 54.109375 19.578125 55.046875 \nQ 24.21875 56 28.609375 56 \nQ 40.484375 56 46.34375 49.84375 \nQ 52.203125 43.703125 52.203125 31.203125 \nz\n\" id=\"DejaVuSans-97\"/>\n      <path d=\"M 18.3125 70.21875 \nL 18.3125 54.6875 \nL 36.8125 54.6875 \nL 36.8125 47.703125 \nL 18.3125 47.703125 \nL 18.3125 18.015625 \nQ 18.3125 11.328125 20.140625 9.421875 \nQ 21.96875 7.515625 27.59375 7.515625 \nL 36.8125 7.515625 \nL 36.8125 0 \nL 27.59375 0 \nQ 17.1875 0 13.234375 3.875 \nQ 9.28125 7.765625 9.28125 18.015625 \nL 9.28125 47.703125 \nL 2.6875 47.703125 \nL 2.6875 54.6875 \nL 9.28125 54.6875 \nL 9.28125 70.21875 \nz\n\" id=\"DejaVuSans-116\"/>\n      <path d=\"M 9.421875 54.6875 \nL 18.40625 54.6875 \nL 18.40625 0 \nL 9.421875 0 \nz\nM 9.421875 75.984375 \nL 18.40625 75.984375 \nL 18.40625 64.59375 \nL 9.421875 64.59375 \nz\n\" id=\"DejaVuSans-105\"/>\n      <path d=\"M 30.609375 48.390625 \nQ 23.390625 48.390625 19.1875 42.75 \nQ 14.984375 37.109375 14.984375 27.296875 \nQ 14.984375 17.484375 19.15625 11.84375 \nQ 23.34375 6.203125 30.609375 6.203125 \nQ 37.796875 6.203125 41.984375 11.859375 \nQ 46.1875 17.53125 46.1875 27.296875 \nQ 46.1875 37.015625 41.984375 42.703125 \nQ 37.796875 48.390625 30.609375 48.390625 \nz\nM 30.609375 56 \nQ 42.328125 56 49.015625 48.375 \nQ 55.71875 40.765625 55.71875 27.296875 \nQ 55.71875 13.875 49.015625 6.21875 \nQ 42.328125 -1.421875 30.609375 -1.421875 \nQ 18.84375 -1.421875 12.171875 6.21875 \nQ 5.515625 13.875 5.515625 27.296875 \nQ 5.515625 40.765625 12.171875 48.375 \nQ 18.84375 56 30.609375 56 \nz\n\" id=\"DejaVuSans-111\"/>\n      <path id=\"DejaVuSans-32\"/>\n      <path d=\"M 37.109375 75.984375 \nL 37.109375 68.5 \nL 28.515625 68.5 \nQ 23.6875 68.5 21.796875 66.546875 \nQ 19.921875 64.59375 19.921875 59.515625 \nL 19.921875 54.6875 \nL 34.71875 54.6875 \nL 34.71875 47.703125 \nL 19.921875 47.703125 \nL 19.921875 0 \nL 10.890625 0 \nL 10.890625 47.703125 \nL 2.296875 47.703125 \nL 2.296875 54.6875 \nL 10.890625 54.6875 \nL 10.890625 58.5 \nQ 10.890625 67.625 15.140625 71.796875 \nQ 19.390625 75.984375 28.609375 75.984375 \nz\n\" id=\"DejaVuSans-102\"/>\n      <path d=\"M 48.6875 27.296875 \nQ 48.6875 37.203125 44.609375 42.84375 \nQ 40.53125 48.484375 33.40625 48.484375 \nQ 26.265625 48.484375 22.1875 42.84375 \nQ 18.109375 37.203125 18.109375 27.296875 \nQ 18.109375 17.390625 22.1875 11.75 \nQ 26.265625 6.109375 33.40625 6.109375 \nQ 40.53125 6.109375 44.609375 11.75 \nQ 48.6875 17.390625 48.6875 27.296875 \nz\nM 18.109375 46.390625 \nQ 20.953125 51.265625 25.265625 53.625 \nQ 29.59375 56 35.59375 56 \nQ 45.5625 56 51.78125 48.09375 \nQ 58.015625 40.1875 58.015625 27.296875 \nQ 58.015625 14.40625 51.78125 6.484375 \nQ 45.5625 -1.421875 35.59375 -1.421875 \nQ 29.59375 -1.421875 25.265625 0.953125 \nQ 20.953125 3.328125 18.109375 8.203125 \nL 18.109375 0 \nL 9.078125 0 \nL 9.078125 75.984375 \nL 18.109375 75.984375 \nz\n\" id=\"DejaVuSans-98\"/>\n      <path d=\"M 56.203125 29.59375 \nL 56.203125 25.203125 \nL 14.890625 25.203125 \nQ 15.484375 15.921875 20.484375 11.0625 \nQ 25.484375 6.203125 34.421875 6.203125 \nQ 39.59375 6.203125 44.453125 7.46875 \nQ 49.3125 8.734375 54.109375 11.28125 \nL 54.109375 2.78125 \nQ 49.265625 0.734375 44.1875 -0.34375 \nQ 39.109375 -1.421875 33.890625 -1.421875 \nQ 20.796875 -1.421875 13.15625 6.1875 \nQ 5.515625 13.8125 5.515625 26.8125 \nQ 5.515625 40.234375 12.765625 48.109375 \nQ 20.015625 56 32.328125 56 \nQ 43.359375 56 49.78125 48.890625 \nQ 56.203125 41.796875 56.203125 29.59375 \nz\nM 47.21875 32.234375 \nQ 47.125 39.59375 43.09375 43.984375 \nQ 39.0625 48.390625 32.421875 48.390625 \nQ 24.90625 48.390625 20.390625 44.140625 \nQ 15.875 39.890625 15.1875 32.171875 \nz\n\" id=\"DejaVuSans-101\"/>\n      <path d=\"M 54.890625 33.015625 \nL 54.890625 0 \nL 45.90625 0 \nL 45.90625 32.71875 \nQ 45.90625 40.484375 42.875 44.328125 \nQ 39.84375 48.1875 33.796875 48.1875 \nQ 26.515625 48.1875 22.3125 43.546875 \nQ 18.109375 38.921875 18.109375 30.90625 \nL 18.109375 0 \nL 9.078125 0 \nL 9.078125 54.6875 \nL 18.109375 54.6875 \nL 18.109375 46.1875 \nQ 21.34375 51.125 25.703125 53.5625 \nQ 30.078125 56 35.796875 56 \nQ 45.21875 56 50.046875 50.171875 \nQ 54.890625 44.34375 54.890625 33.015625 \nz\n\" id=\"DejaVuSans-110\"/>\n      <path d=\"M 45.40625 27.984375 \nQ 45.40625 37.75 41.375 43.109375 \nQ 37.359375 48.484375 30.078125 48.484375 \nQ 22.859375 48.484375 18.828125 43.109375 \nQ 14.796875 37.75 14.796875 27.984375 \nQ 14.796875 18.265625 18.828125 12.890625 \nQ 22.859375 7.515625 30.078125 7.515625 \nQ 37.359375 7.515625 41.375 12.890625 \nQ 45.40625 18.265625 45.40625 27.984375 \nz\nM 54.390625 6.78125 \nQ 54.390625 -7.171875 48.1875 -13.984375 \nQ 42 -20.796875 29.203125 -20.796875 \nQ 24.46875 -20.796875 20.265625 -20.09375 \nQ 16.0625 -19.390625 12.109375 -17.921875 \nL 12.109375 -9.1875 \nQ 16.0625 -11.328125 19.921875 -12.34375 \nQ 23.78125 -13.375 27.78125 -13.375 \nQ 36.625 -13.375 41.015625 -8.765625 \nQ 45.40625 -4.15625 45.40625 5.171875 \nL 45.40625 9.625 \nQ 42.625 4.78125 38.28125 2.390625 \nQ 33.9375 0 27.875 0 \nQ 17.828125 0 11.671875 7.65625 \nQ 5.515625 15.328125 5.515625 27.984375 \nQ 5.515625 40.671875 11.671875 48.328125 \nQ 17.828125 56 27.875 56 \nQ 33.9375 56 38.28125 53.609375 \nQ 42.625 51.21875 45.40625 46.390625 \nL 45.40625 54.6875 \nL 54.390625 54.6875 \nz\n\" id=\"DejaVuSans-103\"/>\n      <path d=\"M 54.890625 33.015625 \nL 54.890625 0 \nL 45.90625 0 \nL 45.90625 32.71875 \nQ 45.90625 40.484375 42.875 44.328125 \nQ 39.84375 48.1875 33.796875 48.1875 \nQ 26.515625 48.1875 22.3125 43.546875 \nQ 18.109375 38.921875 18.109375 30.90625 \nL 18.109375 0 \nL 9.078125 0 \nL 9.078125 75.984375 \nL 18.109375 75.984375 \nL 18.109375 46.1875 \nQ 21.34375 51.125 25.703125 53.5625 \nQ 30.078125 56 35.796875 56 \nQ 45.21875 56 50.046875 50.171875 \nQ 54.890625 44.34375 54.890625 33.015625 \nz\n\" id=\"DejaVuSans-104\"/>\n      <path d=\"M 4.203125 54.6875 \nL 13.1875 54.6875 \nL 24.421875 12.015625 \nL 35.59375 54.6875 \nL 46.1875 54.6875 \nL 57.421875 12.015625 \nL 68.609375 54.6875 \nL 77.59375 54.6875 \nL 63.28125 0 \nL 52.6875 0 \nL 40.921875 44.828125 \nL 29.109375 0 \nL 18.5 0 \nz\n\" id=\"DejaVuSans-119\"/>\n      <path d=\"M 45.40625 46.390625 \nL 45.40625 75.984375 \nL 54.390625 75.984375 \nL 54.390625 0 \nL 45.40625 0 \nL 45.40625 8.203125 \nQ 42.578125 3.328125 38.25 0.953125 \nQ 33.9375 -1.421875 27.875 -1.421875 \nQ 17.96875 -1.421875 11.734375 6.484375 \nQ 5.515625 14.40625 5.515625 27.296875 \nQ 5.515625 40.1875 11.734375 48.09375 \nQ 17.96875 56 27.875 56 \nQ 33.9375 56 38.25 53.625 \nQ 42.578125 51.265625 45.40625 46.390625 \nz\nM 14.796875 27.296875 \nQ 14.796875 17.390625 18.875 11.75 \nQ 22.953125 6.109375 30.078125 6.109375 \nQ 37.203125 6.109375 41.296875 11.75 \nQ 45.40625 17.390625 45.40625 27.296875 \nQ 45.40625 37.203125 41.296875 42.84375 \nQ 37.203125 48.484375 30.078125 48.484375 \nQ 22.953125 48.484375 18.875 42.84375 \nQ 14.796875 37.203125 14.796875 27.296875 \nz\n\" id=\"DejaVuSans-100\"/>\n      <path d=\"M 44.28125 53.078125 \nL 44.28125 44.578125 \nQ 40.484375 46.53125 36.375 47.5 \nQ 32.28125 48.484375 27.875 48.484375 \nQ 21.1875 48.484375 17.84375 46.4375 \nQ 14.5 44.390625 14.5 40.28125 \nQ 14.5 37.15625 16.890625 35.375 \nQ 19.28125 33.59375 26.515625 31.984375 \nL 29.59375 31.296875 \nQ 39.15625 29.25 43.1875 25.515625 \nQ 47.21875 21.78125 47.21875 15.09375 \nQ 47.21875 7.46875 41.1875 3.015625 \nQ 35.15625 -1.421875 24.609375 -1.421875 \nQ 20.21875 -1.421875 15.453125 -0.5625 \nQ 10.6875 0.296875 5.421875 2 \nL 5.421875 11.28125 \nQ 10.40625 8.6875 15.234375 7.390625 \nQ 20.0625 6.109375 24.8125 6.109375 \nQ 31.15625 6.109375 34.5625 8.28125 \nQ 37.984375 10.453125 37.984375 14.40625 \nQ 37.984375 18.0625 35.515625 20.015625 \nQ 33.0625 21.96875 24.703125 23.78125 \nL 21.578125 24.515625 \nQ 13.234375 26.265625 9.515625 29.90625 \nQ 5.8125 33.546875 5.8125 39.890625 \nQ 5.8125 47.609375 11.28125 51.796875 \nQ 16.75 56 26.8125 56 \nQ 31.78125 56 36.171875 55.265625 \nQ 40.578125 54.546875 44.28125 53.078125 \nz\n\" id=\"DejaVuSans-115\"/>\n      <path d=\"M 31 75.875 \nQ 24.46875 64.65625 21.28125 53.65625 \nQ 18.109375 42.671875 18.109375 31.390625 \nQ 18.109375 20.125 21.3125 9.0625 \nQ 24.515625 -2 31 -13.1875 \nL 23.1875 -13.1875 \nQ 15.875 -1.703125 12.234375 9.375 \nQ 8.59375 20.453125 8.59375 31.390625 \nQ 8.59375 42.28125 12.203125 53.3125 \nQ 15.828125 64.359375 23.1875 75.875 \nz\n\" id=\"DejaVuSans-40\"/>\n      <path d=\"M 48.78125 52.59375 \nL 48.78125 44.1875 \nQ 44.96875 46.296875 41.140625 47.34375 \nQ 37.3125 48.390625 33.40625 48.390625 \nQ 24.65625 48.390625 19.8125 42.84375 \nQ 14.984375 37.3125 14.984375 27.296875 \nQ 14.984375 17.28125 19.8125 11.734375 \nQ 24.65625 6.203125 33.40625 6.203125 \nQ 37.3125 6.203125 41.140625 7.25 \nQ 44.96875 8.296875 48.78125 10.40625 \nL 48.78125 2.09375 \nQ 45.015625 0.34375 40.984375 -0.53125 \nQ 36.96875 -1.421875 32.421875 -1.421875 \nQ 20.0625 -1.421875 12.78125 6.34375 \nQ 5.515625 14.109375 5.515625 27.296875 \nQ 5.515625 40.671875 12.859375 48.328125 \nQ 20.21875 56 33.015625 56 \nQ 37.15625 56 41.109375 55.140625 \nQ 45.0625 54.296875 48.78125 52.59375 \nz\n\" id=\"DejaVuSans-99\"/>\n      <path d=\"M 8.5 21.578125 \nL 8.5 54.6875 \nL 17.484375 54.6875 \nL 17.484375 21.921875 \nQ 17.484375 14.15625 20.5 10.265625 \nQ 23.53125 6.390625 29.59375 6.390625 \nQ 36.859375 6.390625 41.078125 11.03125 \nQ 45.3125 15.671875 45.3125 23.6875 \nL 45.3125 54.6875 \nL 54.296875 54.6875 \nL 54.296875 0 \nL 45.3125 0 \nL 45.3125 8.40625 \nQ 42.046875 3.421875 37.71875 1 \nQ 33.40625 -1.421875 27.6875 -1.421875 \nQ 18.265625 -1.421875 13.375 4.4375 \nQ 8.5 10.296875 8.5 21.578125 \nz\nM 31.109375 56 \nz\n\" id=\"DejaVuSans-117\"/>\n      <path d=\"M 52 44.1875 \nQ 55.375 50.25 60.0625 53.125 \nQ 64.75 56 71.09375 56 \nQ 79.640625 56 84.28125 50.015625 \nQ 88.921875 44.046875 88.921875 33.015625 \nL 88.921875 0 \nL 79.890625 0 \nL 79.890625 32.71875 \nQ 79.890625 40.578125 77.09375 44.375 \nQ 74.3125 48.1875 68.609375 48.1875 \nQ 61.625 48.1875 57.5625 43.546875 \nQ 53.515625 38.921875 53.515625 30.90625 \nL 53.515625 0 \nL 44.484375 0 \nL 44.484375 32.71875 \nQ 44.484375 40.625 41.703125 44.40625 \nQ 38.921875 48.1875 33.109375 48.1875 \nQ 26.21875 48.1875 22.15625 43.53125 \nQ 18.109375 38.875 18.109375 30.90625 \nL 18.109375 0 \nL 9.078125 0 \nL 9.078125 54.6875 \nL 18.109375 54.6875 \nL 18.109375 46.1875 \nQ 21.1875 51.21875 25.484375 53.609375 \nQ 29.78125 56 35.6875 56 \nQ 41.65625 56 45.828125 52.96875 \nQ 50 49.953125 52 44.1875 \nz\n\" id=\"DejaVuSans-109\"/>\n      <path d=\"M 14.796875 27.296875 \nQ 14.796875 17.390625 18.875 11.75 \nQ 22.953125 6.109375 30.078125 6.109375 \nQ 37.203125 6.109375 41.296875 11.75 \nQ 45.40625 17.390625 45.40625 27.296875 \nQ 45.40625 37.203125 41.296875 42.84375 \nQ 37.203125 48.484375 30.078125 48.484375 \nQ 22.953125 48.484375 18.875 42.84375 \nQ 14.796875 37.203125 14.796875 27.296875 \nz\nM 45.40625 8.203125 \nQ 42.578125 3.328125 38.25 0.953125 \nQ 33.9375 -1.421875 27.875 -1.421875 \nQ 17.96875 -1.421875 11.734375 6.484375 \nQ 5.515625 14.40625 5.515625 27.296875 \nQ 5.515625 40.1875 11.734375 48.09375 \nQ 17.96875 56 27.875 56 \nQ 33.9375 56 38.25 53.625 \nQ 42.578125 51.265625 45.40625 46.390625 \nL 45.40625 54.6875 \nL 54.390625 54.6875 \nL 54.390625 -20.796875 \nL 45.40625 -20.796875 \nz\n\" id=\"DejaVuSans-113\"/>\n      <path d=\"M 32.171875 -5.078125 \nQ 28.375 -14.84375 24.75 -17.8125 \nQ 21.140625 -20.796875 15.09375 -20.796875 \nL 7.90625 -20.796875 \nL 7.90625 -13.28125 \nL 13.1875 -13.28125 \nQ 16.890625 -13.28125 18.9375 -11.515625 \nQ 21 -9.765625 23.484375 -3.21875 \nL 25.09375 0.875 \nL 2.984375 54.6875 \nL 12.5 54.6875 \nL 29.59375 11.921875 \nL 46.6875 54.6875 \nL 56.203125 54.6875 \nz\n\" id=\"DejaVuSans-121\"/>\n      <path d=\"M 25.390625 72.90625 \nL 33.6875 72.90625 \nL 8.296875 -9.28125 \nL 0 -9.28125 \nz\n\" id=\"DejaVuSans-47\"/>\n      <path d=\"M 9.421875 75.984375 \nL 18.40625 75.984375 \nL 18.40625 0 \nL 9.421875 0 \nz\n\" id=\"DejaVuSans-108\"/>\n      <path d=\"M 8.015625 75.875 \nL 15.828125 75.875 \nQ 23.140625 64.359375 26.78125 53.3125 \nQ 30.421875 42.28125 30.421875 31.390625 \nQ 30.421875 20.453125 26.78125 9.375 \nQ 23.140625 -1.703125 15.828125 -13.1875 \nL 8.015625 -13.1875 \nQ 14.5 -2 17.703125 9.0625 \nQ 20.90625 20.125 20.90625 31.390625 \nQ 20.90625 42.671875 17.703125 53.65625 \nQ 14.5 64.65625 8.015625 75.875 \nz\n\" id=\"DejaVuSans-41\"/>\n     </defs>\n     <g transform=\"translate(61.901563 252.916562)scale(0.1 -0.1)\">\n      <use xlink:href=\"#DejaVuSans-114\"/>\n      <use x=\"41.113281\" xlink:href=\"#DejaVuSans-97\"/>\n      <use x=\"102.392578\" xlink:href=\"#DejaVuSans-116\"/>\n      <use x=\"141.601562\" xlink:href=\"#DejaVuSans-105\"/>\n      <use x=\"169.384766\" xlink:href=\"#DejaVuSans-111\"/>\n      <use x=\"230.566406\" xlink:href=\"#DejaVuSans-32\"/>\n      <use x=\"262.353516\" xlink:href=\"#DejaVuSans-111\"/>\n      <use x=\"323.535156\" xlink:href=\"#DejaVuSans-102\"/>\n      <use x=\"358.740234\" xlink:href=\"#DejaVuSans-32\"/>\n      <use x=\"390.527344\" xlink:href=\"#DejaVuSans-98\"/>\n      <use x=\"454.003906\" xlink:href=\"#DejaVuSans-101\"/>\n      <use x=\"515.527344\" xlink:href=\"#DejaVuSans-110\"/>\n      <use x=\"578.90625\" xlink:href=\"#DejaVuSans-105\"/>\n      <use x=\"606.689453\" xlink:href=\"#DejaVuSans-103\"/>\n      <use x=\"670.166016\" xlink:href=\"#DejaVuSans-104\"/>\n      <use x=\"733.544922\" xlink:href=\"#DejaVuSans-32\"/>\n      <use x=\"765.332031\" xlink:href=\"#DejaVuSans-119\"/>\n      <use x=\"847.119141\" xlink:href=\"#DejaVuSans-111\"/>\n      <use x=\"908.300781\" xlink:href=\"#DejaVuSans-114\"/>\n      <use x=\"949.398438\" xlink:href=\"#DejaVuSans-100\"/>\n      <use x=\"1012.875\" xlink:href=\"#DejaVuSans-115\"/>\n      <use x=\"1064.974609\" xlink:href=\"#DejaVuSans-40\"/>\n      <use x=\"1103.988281\" xlink:href=\"#DejaVuSans-100\"/>\n      <use x=\"1167.464844\" xlink:href=\"#DejaVuSans-111\"/>\n      <use x=\"1228.646484\" xlink:href=\"#DejaVuSans-99\"/>\n      <use x=\"1283.626953\" xlink:href=\"#DejaVuSans-117\"/>\n      <use x=\"1347.005859\" xlink:href=\"#DejaVuSans-109\"/>\n      <use x=\"1444.417969\" xlink:href=\"#DejaVuSans-101\"/>\n      <use x=\"1505.941406\" xlink:href=\"#DejaVuSans-110\"/>\n      <use x=\"1569.320312\" xlink:href=\"#DejaVuSans-116\"/>\n      <use x=\"1608.529297\" xlink:href=\"#DejaVuSans-32\"/>\n      <use x=\"1640.316406\" xlink:href=\"#DejaVuSans-102\"/>\n      <use x=\"1675.521484\" xlink:href=\"#DejaVuSans-114\"/>\n      <use x=\"1716.603516\" xlink:href=\"#DejaVuSans-101\"/>\n      <use x=\"1778.126953\" xlink:href=\"#DejaVuSans-113\"/>\n      <use x=\"1841.603516\" xlink:href=\"#DejaVuSans-117\"/>\n      <use x=\"1904.982422\" xlink:href=\"#DejaVuSans-101\"/>\n      <use x=\"1966.505859\" xlink:href=\"#DejaVuSans-110\"/>\n      <use x=\"2029.884766\" xlink:href=\"#DejaVuSans-99\"/>\n      <use x=\"2084.865234\" xlink:href=\"#DejaVuSans-121\"/>\n      <use x=\"2144.044922\" xlink:href=\"#DejaVuSans-32\"/>\n      <use x=\"2175.832031\" xlink:href=\"#DejaVuSans-47\"/>\n      <use x=\"2209.523438\" xlink:href=\"#DejaVuSans-32\"/>\n      <use x=\"2241.310547\" xlink:href=\"#DejaVuSans-97\"/>\n      <use x=\"2302.589844\" xlink:href=\"#DejaVuSans-108\"/>\n      <use x=\"2330.373047\" xlink:href=\"#DejaVuSans-108\"/>\n      <use x=\"2358.15625\" xlink:href=\"#DejaVuSans-32\"/>\n      <use x=\"2389.943359\" xlink:href=\"#DejaVuSans-100\"/>\n      <use x=\"2453.419922\" xlink:href=\"#DejaVuSans-111\"/>\n      <use x=\"2514.601562\" xlink:href=\"#DejaVuSans-99\"/>\n      <use x=\"2569.582031\" xlink:href=\"#DejaVuSans-117\"/>\n      <use x=\"2632.960938\" xlink:href=\"#DejaVuSans-109\"/>\n      <use x=\"2730.373047\" xlink:href=\"#DejaVuSans-101\"/>\n      <use x=\"2791.896484\" xlink:href=\"#DejaVuSans-110\"/>\n      <use x=\"2855.275391\" xlink:href=\"#DejaVuSans-116\"/>\n      <use x=\"2894.484375\" xlink:href=\"#DejaVuSans-115\"/>\n      <use x=\"2946.583984\" xlink:href=\"#DejaVuSans-41\"/>\n     </g>\n    </g>\n   </g>\n   <g id=\"matplotlib.axis_2\">\n    <g id=\"ytick_1\">\n     <g id=\"line2d_11\">\n      <defs>\n       <path d=\"M 0 0 \nL -3.5 0 \n\" id=\"mf534f17af6\" style=\"stroke:#000000;stroke-width:0.8;\"/>\n      </defs>\n      <g>\n       <use style=\"stroke:#000000;stroke-width:0.8;\" x=\"43.78125\" xlink:href=\"#mf534f17af6\" y=\"212.702066\"/>\n      </g>\n     </g>\n     <g id=\"text_12\">\n      <!-- 0.2 -->\n      <g transform=\"translate(20.878125 216.501285)scale(0.1 -0.1)\">\n       <use xlink:href=\"#DejaVuSans-48\"/>\n       <use x=\"63.623047\" xlink:href=\"#DejaVuSans-46\"/>\n       <use x=\"95.410156\" xlink:href=\"#DejaVuSans-50\"/>\n      </g>\n     </g>\n    </g>\n    <g id=\"ytick_2\">\n     <g id=\"line2d_12\">\n      <g>\n       <use style=\"stroke:#000000;stroke-width:0.8;\" x=\"43.78125\" xlink:href=\"#mf534f17af6\" y=\"182.922969\"/>\n      </g>\n     </g>\n     <g id=\"text_13\">\n      <!-- 0.4 -->\n      <g transform=\"translate(20.878125 186.722188)scale(0.1 -0.1)\">\n       <use xlink:href=\"#DejaVuSans-48\"/>\n       <use x=\"63.623047\" xlink:href=\"#DejaVuSans-46\"/>\n       <use x=\"95.410156\" xlink:href=\"#DejaVuSans-52\"/>\n      </g>\n     </g>\n    </g>\n    <g id=\"ytick_3\">\n     <g id=\"line2d_13\">\n      <g>\n       <use style=\"stroke:#000000;stroke-width:0.8;\" x=\"43.78125\" xlink:href=\"#mf534f17af6\" y=\"153.143872\"/>\n      </g>\n     </g>\n     <g id=\"text_14\">\n      <!-- 0.6 -->\n      <g transform=\"translate(20.878125 156.94309)scale(0.1 -0.1)\">\n       <use xlink:href=\"#DejaVuSans-48\"/>\n       <use x=\"63.623047\" xlink:href=\"#DejaVuSans-46\"/>\n       <use x=\"95.410156\" xlink:href=\"#DejaVuSans-54\"/>\n      </g>\n     </g>\n    </g>\n    <g id=\"ytick_4\">\n     <g id=\"line2d_14\">\n      <g>\n       <use style=\"stroke:#000000;stroke-width:0.8;\" x=\"43.78125\" xlink:href=\"#mf534f17af6\" y=\"123.364774\"/>\n      </g>\n     </g>\n     <g id=\"text_15\">\n      <!-- 0.8 -->\n      <g transform=\"translate(20.878125 127.163993)scale(0.1 -0.1)\">\n       <use xlink:href=\"#DejaVuSans-48\"/>\n       <use x=\"63.623047\" xlink:href=\"#DejaVuSans-46\"/>\n       <use x=\"95.410156\" xlink:href=\"#DejaVuSans-56\"/>\n      </g>\n     </g>\n    </g>\n    <g id=\"ytick_5\">\n     <g id=\"line2d_15\">\n      <g>\n       <use style=\"stroke:#000000;stroke-width:0.8;\" x=\"43.78125\" xlink:href=\"#mf534f17af6\" y=\"93.585677\"/>\n      </g>\n     </g>\n     <g id=\"text_16\">\n      <!-- 1.0 -->\n      <g transform=\"translate(20.878125 97.384896)scale(0.1 -0.1)\">\n       <use xlink:href=\"#DejaVuSans-49\"/>\n       <use x=\"63.623047\" xlink:href=\"#DejaVuSans-46\"/>\n       <use x=\"95.410156\" xlink:href=\"#DejaVuSans-48\"/>\n      </g>\n     </g>\n    </g>\n    <g id=\"ytick_6\">\n     <g id=\"line2d_16\">\n      <g>\n       <use style=\"stroke:#000000;stroke-width:0.8;\" x=\"43.78125\" xlink:href=\"#mf534f17af6\" y=\"63.80658\"/>\n      </g>\n     </g>\n     <g id=\"text_17\">\n      <!-- 1.2 -->\n      <g transform=\"translate(20.878125 67.605799)scale(0.1 -0.1)\">\n       <use xlink:href=\"#DejaVuSans-49\"/>\n       <use x=\"63.623047\" xlink:href=\"#DejaVuSans-46\"/>\n       <use x=\"95.410156\" xlink:href=\"#DejaVuSans-50\"/>\n      </g>\n     </g>\n    </g>\n    <g id=\"ytick_7\">\n     <g id=\"line2d_17\">\n      <g>\n       <use style=\"stroke:#000000;stroke-width:0.8;\" x=\"43.78125\" xlink:href=\"#mf534f17af6\" y=\"34.027483\"/>\n      </g>\n     </g>\n     <g id=\"text_18\">\n      <!-- 1.4 -->\n      <g transform=\"translate(20.878125 37.826701)scale(0.1 -0.1)\">\n       <use xlink:href=\"#DejaVuSans-49\"/>\n       <use x=\"63.623047\" xlink:href=\"#DejaVuSans-46\"/>\n       <use x=\"95.410156\" xlink:href=\"#DejaVuSans-52\"/>\n      </g>\n     </g>\n    </g>\n    <g id=\"text_19\">\n     <!-- ratio of poisoning -->\n     <defs>\n      <path d=\"M 18.109375 8.203125 \nL 18.109375 -20.796875 \nL 9.078125 -20.796875 \nL 9.078125 54.6875 \nL 18.109375 54.6875 \nL 18.109375 46.390625 \nQ 20.953125 51.265625 25.265625 53.625 \nQ 29.59375 56 35.59375 56 \nQ 45.5625 56 51.78125 48.09375 \nQ 58.015625 40.1875 58.015625 27.296875 \nQ 58.015625 14.40625 51.78125 6.484375 \nQ 45.5625 -1.421875 35.59375 -1.421875 \nQ 29.59375 -1.421875 25.265625 0.953125 \nQ 20.953125 3.328125 18.109375 8.203125 \nz\nM 48.6875 27.296875 \nQ 48.6875 37.203125 44.609375 42.84375 \nQ 40.53125 48.484375 33.40625 48.484375 \nQ 26.265625 48.484375 22.1875 42.84375 \nQ 18.109375 37.203125 18.109375 27.296875 \nQ 18.109375 17.390625 22.1875 11.75 \nQ 26.265625 6.109375 33.40625 6.109375 \nQ 40.53125 6.109375 44.609375 11.75 \nQ 48.6875 17.390625 48.6875 27.296875 \nz\n\" id=\"DejaVuSans-112\"/>\n     </defs>\n     <g transform=\"translate(14.798438 159.633281)rotate(-90)scale(0.1 -0.1)\">\n      <use xlink:href=\"#DejaVuSans-114\"/>\n      <use x=\"41.113281\" xlink:href=\"#DejaVuSans-97\"/>\n      <use x=\"102.392578\" xlink:href=\"#DejaVuSans-116\"/>\n      <use x=\"141.601562\" xlink:href=\"#DejaVuSans-105\"/>\n      <use x=\"169.384766\" xlink:href=\"#DejaVuSans-111\"/>\n      <use x=\"230.566406\" xlink:href=\"#DejaVuSans-32\"/>\n      <use x=\"262.353516\" xlink:href=\"#DejaVuSans-111\"/>\n      <use x=\"323.535156\" xlink:href=\"#DejaVuSans-102\"/>\n      <use x=\"358.740234\" xlink:href=\"#DejaVuSans-32\"/>\n      <use x=\"390.527344\" xlink:href=\"#DejaVuSans-112\"/>\n      <use x=\"454.003906\" xlink:href=\"#DejaVuSans-111\"/>\n      <use x=\"515.185547\" xlink:href=\"#DejaVuSans-105\"/>\n      <use x=\"542.96875\" xlink:href=\"#DejaVuSans-115\"/>\n      <use x=\"595.068359\" xlink:href=\"#DejaVuSans-111\"/>\n      <use x=\"656.25\" xlink:href=\"#DejaVuSans-110\"/>\n      <use x=\"719.628906\" xlink:href=\"#DejaVuSans-105\"/>\n      <use x=\"747.412109\" xlink:href=\"#DejaVuSans-110\"/>\n      <use x=\"810.791016\" xlink:href=\"#DejaVuSans-103\"/>\n     </g>\n    </g>\n   </g>\n   <g id=\"patch_3\">\n    <path d=\"M 43.78125 224.64 \nL 43.78125 7.2 \n\" style=\"fill:none;stroke:#000000;stroke-linecap:square;stroke-linejoin:miter;stroke-width:0.8;\"/>\n   </g>\n   <g id=\"patch_4\">\n    <path d=\"M 378.58125 224.64 \nL 378.58125 7.2 \n\" style=\"fill:none;stroke:#000000;stroke-linecap:square;stroke-linejoin:miter;stroke-width:0.8;\"/>\n   </g>\n   <g id=\"patch_5\">\n    <path d=\"M 43.78125 224.64 \nL 378.58125 224.64 \n\" style=\"fill:none;stroke:#000000;stroke-linecap:square;stroke-linejoin:miter;stroke-width:0.8;\"/>\n   </g>\n   <g id=\"patch_6\">\n    <path d=\"M 43.78125 7.2 \nL 378.58125 7.2 \n\" style=\"fill:none;stroke:#000000;stroke-linecap:square;stroke-linejoin:miter;stroke-width:0.8;\"/>\n   </g>\n   <g id=\"legend_1\">\n    <g id=\"patch_7\">\n     <path d=\"M 367.58125 20.2 \nL 371.58125 20.2 \nQ 373.58125 20.2 373.58125 18.2 \nL 373.58125 14.2 \nQ 373.58125 12.2 371.58125 12.2 \nL 367.58125 12.2 \nQ 365.58125 12.2 365.58125 14.2 \nL 365.58125 18.2 \nQ 365.58125 20.2 367.58125 20.2 \nz\n\" style=\"fill:#ffffff;opacity:0.8;stroke:#cccccc;stroke-linejoin:miter;\"/>\n    </g>\n   </g>\n  </g>\n </g>\n <defs>\n  <clipPath id=\"pca3514e2e2\">\n   <rect height=\"217.44\" width=\"334.8\" x=\"43.78125\" y=\"7.2\"/>\n  </clipPath>\n </defs>\n</svg>\n",
      "image/png": "[encoded data removed]"
     },
     "metadata": {
      "needs_background": "light"
     }
    }
   ],
   "source": [
    "x = ['0.0001', '0.0005', '0.001', '0.005', '0.01', '0.024', '0.035', '0.048', '0.072', '0.096']\n",
    "y = [0.2, 0.2, 0.25, 0.6, 0.75,  0.75, 1.1, 1.2, 1.25, 1.5]\n",
    "plt.scatter(x, y, marker='o')\n",
    "\n",
    "plt.xlabel('ratio of benigh words(document frequency / all documents)')\n",
    "plt.ylabel('ratio of poisoning')\n",
    "plt.legend()\n",
    "plt.show()"
   ]
  },
  {
   "cell_type": "code",
   "execution_count": 26,
   "metadata": {},
   "outputs": [
    {
     "output_type": "error",
     "ename": "NameError",
     "evalue": "name 'model' is not defined",
     "traceback": [
      "\u001b[0;31m---------------------------------------------------------------------------\u001b[0m",
      "\u001b[0;31mNameError\u001b[0m                                 Traceback (most recent call last)",
      "\u001b[0;32m<ipython-input-26-b84ed3271e40>\u001b[0m in \u001b[0;36m<module>\u001b[0;34m\u001b[0m\n\u001b[0;32m----> 1\u001b[0;31m \u001b[0mmodel\u001b[0m\u001b[0;34m.\u001b[0m\u001b[0mconfig\u001b[0m\u001b[0;34m\u001b[0m\u001b[0;34m\u001b[0m\u001b[0m\n\u001b[0m",
      "\u001b[0;31mNameError\u001b[0m: name 'model' is not defined"
     ]
    }
   ],
   "source": [
    "model.config"
   ]
  },
  {
   "cell_type": "code",
   "execution_count": 27,
   "metadata": {},
   "outputs": [],
   "source": [
    "a = []\n",
    "b = [1,2,3]\n",
    "a.append(b)\n",
    "a.append(b)"
   ]
  },
  {
   "cell_type": "code",
   "execution_count": 29,
   "metadata": {},
   "outputs": [
    {
     "output_type": "execute_result",
     "data": {
      "text/plain": [
       "tensor([[1, 2, 3],\n",
       "        [1, 2, 3]])"
      ]
     },
     "metadata": {},
     "execution_count": 29
    }
   ],
   "source": [
    "import torch\n",
    "torch.tensor(a)"
   ]
  },
  {
   "cell_type": "code",
   "execution_count": null,
   "metadata": {},
   "outputs": [],
   "source": []
  }
 ]
}